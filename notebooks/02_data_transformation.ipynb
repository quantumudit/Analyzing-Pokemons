{
 "cells": [
  {
   "cell_type": "markdown",
   "metadata": {},
   "source": [
    "# Data Transformation"
   ]
  },
  {
   "cell_type": "markdown",
   "metadata": {},
   "source": [
    "## Setup"
   ]
  },
  {
   "cell_type": "code",
   "execution_count": 1,
   "metadata": {},
   "outputs": [
    {
     "name": "stdout",
     "output_type": "stream",
     "text": [
      "Current working directory: notebooks\n",
      "Current working directory (Changed): Analyzing-Pokemons\n"
     ]
    }
   ],
   "source": [
    "# Setting up execution path\n",
    "import os\n",
    "\n",
    "print(f\"Current working directory: {os.path.basename(os.getcwd())}\")\n",
    "\n",
    "# Change to root directory\n",
    "os.chdir(\"../\")\n",
    "print(f\"Current working directory (Changed): {os.path.basename(os.getcwd())}\")"
   ]
  },
  {
   "cell_type": "code",
   "execution_count": 2,
   "metadata": {},
   "outputs": [],
   "source": [
    "from rich import print"
   ]
  },
  {
   "cell_type": "code",
   "execution_count": 3,
   "metadata": {},
   "outputs": [],
   "source": [
    "from src.constants import CONFIGS\n",
    "from src.utils.basic_utils import read_yaml"
   ]
  },
  {
   "cell_type": "code",
   "execution_count": 4,
   "metadata": {},
   "outputs": [
    {
     "name": "stdout",
     "output_type": "stream",
     "text": [
      "[2024-02-26 12:45:44 PM]:ProjectLogger INFO:basic_utils 40 - yaml file: conf\\configs.yaml loaded successfully\n"
     ]
    },
    {
     "data": {
      "text/html": [
       "<pre style=\"white-space:pre;overflow-x:auto;line-height:normal;font-family:Menlo,'DejaVu Sans Mono',consolas,'Courier New',monospace\"><span style=\"font-weight: bold\">{</span><span style=\"color: #008000; text-decoration-color: #008000\">'scraped_data_path'</span>: <span style=\"color: #008000; text-decoration-color: #008000\">'data/external/scraped_pokemons.csv'</span>, <span style=\"color: #008000; text-decoration-color: #008000\">'processed_data_path'</span>: <span style=\"color: #008000; text-decoration-color: #008000\">'data/processed/pokemons.csv'</span><span style=\"font-weight: bold\">}</span>\n",
       "</pre>\n"
      ],
      "text/plain": [
       "\u001b[1m{\u001b[0m\u001b[32m'scraped_data_path'\u001b[0m: \u001b[32m'data/external/scraped_pokemons.csv'\u001b[0m, \u001b[32m'processed_data_path'\u001b[0m: \u001b[32m'data/processed/pokemons.csv'\u001b[0m\u001b[1m}\u001b[0m\n"
      ]
     },
     "metadata": {},
     "output_type": "display_data"
    }
   ],
   "source": [
    "configs = read_yaml(CONFIGS).data_preprocessor\n",
    "print(configs.to_dict())"
   ]
  },
  {
   "cell_type": "code",
   "execution_count": 5,
   "metadata": {},
   "outputs": [],
   "source": [
    "#imports\n",
    "import numpy as np\n",
    "import pandas as pd\n",
    "import matplotlib.pyplot as plt\n",
    "import seaborn as sns\n",
    "import warnings\n",
    "\n",
    "# module setup\n",
    "%matplotlib inline\n",
    "pd.options.display.precision = 5\n",
    "warnings.filterwarnings(\"ignore\")"
   ]
  },
  {
   "cell_type": "code",
   "execution_count": 6,
   "metadata": {},
   "outputs": [
    {
     "data": {
      "text/html": [
       "<div>\n",
       "<style scoped>\n",
       "    .dataframe tbody tr th:only-of-type {\n",
       "        vertical-align: middle;\n",
       "    }\n",
       "\n",
       "    .dataframe tbody tr th {\n",
       "        vertical-align: top;\n",
       "    }\n",
       "\n",
       "    .dataframe thead th {\n",
       "        text-align: right;\n",
       "    }\n",
       "</style>\n",
       "<table border=\"1\" class=\"dataframe\">\n",
       "  <thead>\n",
       "    <tr style=\"text-align: right;\">\n",
       "      <th></th>\n",
       "      <th>rank</th>\n",
       "      <th>name</th>\n",
       "      <th>types</th>\n",
       "      <th>total_power</th>\n",
       "      <th>hit_points</th>\n",
       "      <th>attack</th>\n",
       "      <th>defense</th>\n",
       "      <th>special_attack</th>\n",
       "      <th>special_defense</th>\n",
       "      <th>speed</th>\n",
       "      <th>icon_url</th>\n",
       "      <th>details_url</th>\n",
       "      <th>scrape_ts</th>\n",
       "    </tr>\n",
       "  </thead>\n",
       "  <tbody>\n",
       "    <tr>\n",
       "      <th>0</th>\n",
       "      <td>1</td>\n",
       "      <td>Bulbasaur</td>\n",
       "      <td>Grass, Poison</td>\n",
       "      <td>318</td>\n",
       "      <td>45</td>\n",
       "      <td>49</td>\n",
       "      <td>49</td>\n",
       "      <td>65</td>\n",
       "      <td>65</td>\n",
       "      <td>45</td>\n",
       "      <td>https://img.pokemondb.net/sprites/scarlet-viol...</td>\n",
       "      <td>https://pokemondb.net/pokedex/bulbasaur</td>\n",
       "      <td>2024-02-24 15:05:21</td>\n",
       "    </tr>\n",
       "    <tr>\n",
       "      <th>1</th>\n",
       "      <td>2</td>\n",
       "      <td>Ivysaur</td>\n",
       "      <td>Grass, Poison</td>\n",
       "      <td>405</td>\n",
       "      <td>60</td>\n",
       "      <td>62</td>\n",
       "      <td>63</td>\n",
       "      <td>80</td>\n",
       "      <td>80</td>\n",
       "      <td>60</td>\n",
       "      <td>https://img.pokemondb.net/sprites/scarlet-viol...</td>\n",
       "      <td>https://pokemondb.net/pokedex/ivysaur</td>\n",
       "      <td>2024-02-24 15:05:21</td>\n",
       "    </tr>\n",
       "    <tr>\n",
       "      <th>2</th>\n",
       "      <td>3</td>\n",
       "      <td>Venusaur</td>\n",
       "      <td>Grass, Poison</td>\n",
       "      <td>525</td>\n",
       "      <td>80</td>\n",
       "      <td>82</td>\n",
       "      <td>83</td>\n",
       "      <td>100</td>\n",
       "      <td>100</td>\n",
       "      <td>80</td>\n",
       "      <td>https://img.pokemondb.net/sprites/scarlet-viol...</td>\n",
       "      <td>https://pokemondb.net/pokedex/venusaur</td>\n",
       "      <td>2024-02-24 15:05:21</td>\n",
       "    </tr>\n",
       "    <tr>\n",
       "      <th>3</th>\n",
       "      <td>3</td>\n",
       "      <td>Mega Venusaur</td>\n",
       "      <td>Grass, Poison</td>\n",
       "      <td>625</td>\n",
       "      <td>80</td>\n",
       "      <td>100</td>\n",
       "      <td>123</td>\n",
       "      <td>122</td>\n",
       "      <td>120</td>\n",
       "      <td>80</td>\n",
       "      <td>https://img.pokemondb.net/sprites/scarlet-viol...</td>\n",
       "      <td>https://pokemondb.net/pokedex/venusaur</td>\n",
       "      <td>2024-02-24 15:05:21</td>\n",
       "    </tr>\n",
       "    <tr>\n",
       "      <th>4</th>\n",
       "      <td>4</td>\n",
       "      <td>Charmander</td>\n",
       "      <td>Fire</td>\n",
       "      <td>309</td>\n",
       "      <td>39</td>\n",
       "      <td>52</td>\n",
       "      <td>43</td>\n",
       "      <td>60</td>\n",
       "      <td>50</td>\n",
       "      <td>65</td>\n",
       "      <td>https://img.pokemondb.net/sprites/scarlet-viol...</td>\n",
       "      <td>https://pokemondb.net/pokedex/charmander</td>\n",
       "      <td>2024-02-24 15:05:21</td>\n",
       "    </tr>\n",
       "  </tbody>\n",
       "</table>\n",
       "</div>"
      ],
      "text/plain": [
       "   rank           name          types  total_power  hit_points  attack  \\\n",
       "0     1      Bulbasaur  Grass, Poison          318          45      49   \n",
       "1     2        Ivysaur  Grass, Poison          405          60      62   \n",
       "2     3       Venusaur  Grass, Poison          525          80      82   \n",
       "3     3  Mega Venusaur  Grass, Poison          625          80     100   \n",
       "4     4     Charmander           Fire          309          39      52   \n",
       "\n",
       "   defense  special_attack  special_defense  speed  \\\n",
       "0       49              65               65     45   \n",
       "1       63              80               80     60   \n",
       "2       83             100              100     80   \n",
       "3      123             122              120     80   \n",
       "4       43              60               50     65   \n",
       "\n",
       "                                            icon_url  \\\n",
       "0  https://img.pokemondb.net/sprites/scarlet-viol...   \n",
       "1  https://img.pokemondb.net/sprites/scarlet-viol...   \n",
       "2  https://img.pokemondb.net/sprites/scarlet-viol...   \n",
       "3  https://img.pokemondb.net/sprites/scarlet-viol...   \n",
       "4  https://img.pokemondb.net/sprites/scarlet-viol...   \n",
       "\n",
       "                                details_url            scrape_ts  \n",
       "0   https://pokemondb.net/pokedex/bulbasaur  2024-02-24 15:05:21  \n",
       "1     https://pokemondb.net/pokedex/ivysaur  2024-02-24 15:05:21  \n",
       "2    https://pokemondb.net/pokedex/venusaur  2024-02-24 15:05:21  \n",
       "3    https://pokemondb.net/pokedex/venusaur  2024-02-24 15:05:21  \n",
       "4  https://pokemondb.net/pokedex/charmander  2024-02-24 15:05:21  "
      ]
     },
     "execution_count": 6,
     "metadata": {},
     "output_type": "execute_result"
    }
   ],
   "source": [
    "# Get the CSV filepath from configs\n",
    "scraped_data_path = configs.scraped_data_path\n",
    "\n",
    "# Read the CSV data\n",
    "pokemons_df_main = pd.read_csv(scraped_data_path, index_col=False)\n",
    "\n",
    "# create a copy of it for working\n",
    "df = pokemons_df_main.copy(deep=True)\n",
    "\n",
    "# View a glimpse of the data\n",
    "df.head()"
   ]
  },
  {
   "cell_type": "code",
   "execution_count": 7,
   "metadata": {},
   "outputs": [
    {
     "data": {
      "text/html": [
       "<pre style=\"white-space:pre;overflow-x:auto;line-height:normal;font-family:Menlo,'DejaVu Sans Mono',consolas,'Courier New',monospace\">There are <span style=\"color: #008080; text-decoration-color: #008080; font-weight: bold\">0</span> duplicated entries in the dataframe\n",
       "</pre>\n"
      ],
      "text/plain": [
       "There are \u001b[1;36m0\u001b[0m duplicated entries in the dataframe\n"
      ]
     },
     "metadata": {},
     "output_type": "display_data"
    }
   ],
   "source": [
    "# Create boolean mask to get duplicated entries\n",
    "dup_mask = df.duplicated()\n",
    "\n",
    "# Apply the mask over dataframe\n",
    "dup_entries = df[dup_mask]\n",
    "\n",
    "# Print the results\n",
    "print(f\"There are {len(dup_entries)} duplicated entries in the dataframe\")"
   ]
  },
  {
   "cell_type": "code",
   "execution_count": 8,
   "metadata": {},
   "outputs": [
    {
     "name": "stdout",
     "output_type": "stream",
     "text": [
      "<class 'pandas.core.frame.DataFrame'>\n",
      "RangeIndex: 1215 entries, 0 to 1214\n",
      "Data columns (total 13 columns):\n",
      " #   Column           Non-Null Count  Dtype \n",
      "---  ------           --------------  ----- \n",
      " 0   rank             1215 non-null   int64 \n",
      " 1   name             1215 non-null   object\n",
      " 2   types            1215 non-null   object\n",
      " 3   total_power      1215 non-null   int64 \n",
      " 4   hit_points       1215 non-null   int64 \n",
      " 5   attack           1215 non-null   int64 \n",
      " 6   defense          1215 non-null   int64 \n",
      " 7   special_attack   1215 non-null   int64 \n",
      " 8   special_defense  1215 non-null   int64 \n",
      " 9   speed            1215 non-null   int64 \n",
      " 10  icon_url         1215 non-null   object\n",
      " 11  details_url      1215 non-null   object\n",
      " 12  scrape_ts        1215 non-null   object\n",
      "dtypes: int64(8), object(5)\n",
      "memory usage: 123.5+ KB\n"
     ]
    }
   ],
   "source": [
    "df.info()"
   ]
  },
  {
   "cell_type": "code",
   "execution_count": 9,
   "metadata": {},
   "outputs": [
    {
     "data": {
      "text/html": [
       "<pre style=\"white-space:pre;overflow-x:auto;line-height:normal;font-family:Menlo,'DejaVu Sans Mono',consolas,'Courier New',monospace\">The unique values in rank column is <span style=\"color: #008080; text-decoration-color: #008080; font-weight: bold\">1025</span>\n",
       "</pre>\n"
      ],
      "text/plain": [
       "The unique values in rank column is \u001b[1;36m1025\u001b[0m\n"
      ]
     },
     "metadata": {},
     "output_type": "display_data"
    },
    {
     "data": {
      "text/html": [
       "<pre style=\"white-space:pre;overflow-x:auto;line-height:normal;font-family:Menlo,'DejaVu Sans Mono',consolas,'Courier New',monospace\">The unique values in name column is <span style=\"color: #008080; text-decoration-color: #008080; font-weight: bold\">1193</span>\n",
       "</pre>\n"
      ],
      "text/plain": [
       "The unique values in name column is \u001b[1;36m1193\u001b[0m\n"
      ]
     },
     "metadata": {},
     "output_type": "display_data"
    },
    {
     "data": {
      "text/html": [
       "<pre style=\"white-space:pre;overflow-x:auto;line-height:normal;font-family:Menlo,'DejaVu Sans Mono',consolas,'Courier New',monospace\">The unique values in types column is <span style=\"color: #008080; text-decoration-color: #008080; font-weight: bold\">221</span>\n",
       "</pre>\n"
      ],
      "text/plain": [
       "The unique values in types column is \u001b[1;36m221\u001b[0m\n"
      ]
     },
     "metadata": {},
     "output_type": "display_data"
    },
    {
     "data": {
      "text/html": [
       "<pre style=\"white-space:pre;overflow-x:auto;line-height:normal;font-family:Menlo,'DejaVu Sans Mono',consolas,'Courier New',monospace\">The unique values in total_power column is <span style=\"color: #008080; text-decoration-color: #008080; font-weight: bold\">228</span>\n",
       "</pre>\n"
      ],
      "text/plain": [
       "The unique values in total_power column is \u001b[1;36m228\u001b[0m\n"
      ]
     },
     "metadata": {},
     "output_type": "display_data"
    },
    {
     "data": {
      "text/html": [
       "<pre style=\"white-space:pre;overflow-x:auto;line-height:normal;font-family:Menlo,'DejaVu Sans Mono',consolas,'Courier New',monospace\">The unique values in hit_points column is <span style=\"color: #008080; text-decoration-color: #008080; font-weight: bold\">109</span>\n",
       "</pre>\n"
      ],
      "text/plain": [
       "The unique values in hit_points column is \u001b[1;36m109\u001b[0m\n"
      ]
     },
     "metadata": {},
     "output_type": "display_data"
    },
    {
     "data": {
      "text/html": [
       "<pre style=\"white-space:pre;overflow-x:auto;line-height:normal;font-family:Menlo,'DejaVu Sans Mono',consolas,'Courier New',monospace\">The unique values in attack column is <span style=\"color: #008080; text-decoration-color: #008080; font-weight: bold\">126</span>\n",
       "</pre>\n"
      ],
      "text/plain": [
       "The unique values in attack column is \u001b[1;36m126\u001b[0m\n"
      ]
     },
     "metadata": {},
     "output_type": "display_data"
    },
    {
     "data": {
      "text/html": [
       "<pre style=\"white-space:pre;overflow-x:auto;line-height:normal;font-family:Menlo,'DejaVu Sans Mono',consolas,'Courier New',monospace\">The unique values in defense column is <span style=\"color: #008080; text-decoration-color: #008080; font-weight: bold\">115</span>\n",
       "</pre>\n"
      ],
      "text/plain": [
       "The unique values in defense column is \u001b[1;36m115\u001b[0m\n"
      ]
     },
     "metadata": {},
     "output_type": "display_data"
    },
    {
     "data": {
      "text/html": [
       "<pre style=\"white-space:pre;overflow-x:auto;line-height:normal;font-family:Menlo,'DejaVu Sans Mono',consolas,'Courier New',monospace\">The unique values in special_attack column is <span style=\"color: #008080; text-decoration-color: #008080; font-weight: bold\">127</span>\n",
       "</pre>\n"
      ],
      "text/plain": [
       "The unique values in special_attack column is \u001b[1;36m127\u001b[0m\n"
      ]
     },
     "metadata": {},
     "output_type": "display_data"
    },
    {
     "data": {
      "text/html": [
       "<pre style=\"white-space:pre;overflow-x:auto;line-height:normal;font-family:Menlo,'DejaVu Sans Mono',consolas,'Courier New',monospace\">The unique values in special_defense column is <span style=\"color: #008080; text-decoration-color: #008080; font-weight: bold\">107</span>\n",
       "</pre>\n"
      ],
      "text/plain": [
       "The unique values in special_defense column is \u001b[1;36m107\u001b[0m\n"
      ]
     },
     "metadata": {},
     "output_type": "display_data"
    },
    {
     "data": {
      "text/html": [
       "<pre style=\"white-space:pre;overflow-x:auto;line-height:normal;font-family:Menlo,'DejaVu Sans Mono',consolas,'Courier New',monospace\">The unique values in speed column is <span style=\"color: #008080; text-decoration-color: #008080; font-weight: bold\">127</span>\n",
       "</pre>\n"
      ],
      "text/plain": [
       "The unique values in speed column is \u001b[1;36m127\u001b[0m\n"
      ]
     },
     "metadata": {},
     "output_type": "display_data"
    },
    {
     "data": {
      "text/html": [
       "<pre style=\"white-space:pre;overflow-x:auto;line-height:normal;font-family:Menlo,'DejaVu Sans Mono',consolas,'Courier New',monospace\">The unique values in icon_url column is <span style=\"color: #008080; text-decoration-color: #008080; font-weight: bold\">1215</span>\n",
       "</pre>\n"
      ],
      "text/plain": [
       "The unique values in icon_url column is \u001b[1;36m1215\u001b[0m\n"
      ]
     },
     "metadata": {},
     "output_type": "display_data"
    },
    {
     "data": {
      "text/html": [
       "<pre style=\"white-space:pre;overflow-x:auto;line-height:normal;font-family:Menlo,'DejaVu Sans Mono',consolas,'Courier New',monospace\">The unique values in details_url column is <span style=\"color: #008080; text-decoration-color: #008080; font-weight: bold\">1025</span>\n",
       "</pre>\n"
      ],
      "text/plain": [
       "The unique values in details_url column is \u001b[1;36m1025\u001b[0m\n"
      ]
     },
     "metadata": {},
     "output_type": "display_data"
    },
    {
     "data": {
      "text/html": [
       "<pre style=\"white-space:pre;overflow-x:auto;line-height:normal;font-family:Menlo,'DejaVu Sans Mono',consolas,'Courier New',monospace\">The unique values in scrape_ts column is <span style=\"color: #008080; text-decoration-color: #008080; font-weight: bold\">2</span>\n",
       "</pre>\n"
      ],
      "text/plain": [
       "The unique values in scrape_ts column is \u001b[1;36m2\u001b[0m\n"
      ]
     },
     "metadata": {},
     "output_type": "display_data"
    }
   ],
   "source": [
    "for col in df.columns:\n",
    "    unq_count = df[col].nunique()\n",
    "    print(f\"The unique values in {col} column is {unq_count}\")"
   ]
  },
  {
   "cell_type": "markdown",
   "metadata": {},
   "source": [
    "As we can see expect the \"icon_url\" column, none of the other columns has a complete \n",
    "unique values.\n",
    "\n",
    "Therefore, we need a primary key to identify each row individually and we can call it \"pokemon_id\""
   ]
  },
  {
   "cell_type": "code",
   "execution_count": 10,
   "metadata": {},
   "outputs": [
    {
     "data": {
      "text/html": [
       "<div>\n",
       "<style scoped>\n",
       "    .dataframe tbody tr th:only-of-type {\n",
       "        vertical-align: middle;\n",
       "    }\n",
       "\n",
       "    .dataframe tbody tr th {\n",
       "        vertical-align: top;\n",
       "    }\n",
       "\n",
       "    .dataframe thead th {\n",
       "        text-align: right;\n",
       "    }\n",
       "</style>\n",
       "<table border=\"1\" class=\"dataframe\">\n",
       "  <thead>\n",
       "    <tr style=\"text-align: right;\">\n",
       "      <th></th>\n",
       "      <th>rank</th>\n",
       "      <th>name</th>\n",
       "      <th>types</th>\n",
       "      <th>total_power</th>\n",
       "      <th>hit_points</th>\n",
       "      <th>attack</th>\n",
       "      <th>defense</th>\n",
       "      <th>special_attack</th>\n",
       "      <th>special_defense</th>\n",
       "      <th>speed</th>\n",
       "      <th>icon_url</th>\n",
       "      <th>details_url</th>\n",
       "      <th>scrape_ts</th>\n",
       "      <th>calculated_power</th>\n",
       "    </tr>\n",
       "  </thead>\n",
       "  <tbody>\n",
       "    <tr>\n",
       "      <th>0</th>\n",
       "      <td>1</td>\n",
       "      <td>Bulbasaur</td>\n",
       "      <td>Grass, Poison</td>\n",
       "      <td>318</td>\n",
       "      <td>45</td>\n",
       "      <td>49</td>\n",
       "      <td>49</td>\n",
       "      <td>65</td>\n",
       "      <td>65</td>\n",
       "      <td>45</td>\n",
       "      <td>https://img.pokemondb.net/sprites/scarlet-viol...</td>\n",
       "      <td>https://pokemondb.net/pokedex/bulbasaur</td>\n",
       "      <td>2024-02-24 15:05:21</td>\n",
       "      <td>318</td>\n",
       "    </tr>\n",
       "    <tr>\n",
       "      <th>1</th>\n",
       "      <td>2</td>\n",
       "      <td>Ivysaur</td>\n",
       "      <td>Grass, Poison</td>\n",
       "      <td>405</td>\n",
       "      <td>60</td>\n",
       "      <td>62</td>\n",
       "      <td>63</td>\n",
       "      <td>80</td>\n",
       "      <td>80</td>\n",
       "      <td>60</td>\n",
       "      <td>https://img.pokemondb.net/sprites/scarlet-viol...</td>\n",
       "      <td>https://pokemondb.net/pokedex/ivysaur</td>\n",
       "      <td>2024-02-24 15:05:21</td>\n",
       "      <td>405</td>\n",
       "    </tr>\n",
       "    <tr>\n",
       "      <th>2</th>\n",
       "      <td>3</td>\n",
       "      <td>Venusaur</td>\n",
       "      <td>Grass, Poison</td>\n",
       "      <td>525</td>\n",
       "      <td>80</td>\n",
       "      <td>82</td>\n",
       "      <td>83</td>\n",
       "      <td>100</td>\n",
       "      <td>100</td>\n",
       "      <td>80</td>\n",
       "      <td>https://img.pokemondb.net/sprites/scarlet-viol...</td>\n",
       "      <td>https://pokemondb.net/pokedex/venusaur</td>\n",
       "      <td>2024-02-24 15:05:21</td>\n",
       "      <td>525</td>\n",
       "    </tr>\n",
       "    <tr>\n",
       "      <th>3</th>\n",
       "      <td>3</td>\n",
       "      <td>Mega Venusaur</td>\n",
       "      <td>Grass, Poison</td>\n",
       "      <td>625</td>\n",
       "      <td>80</td>\n",
       "      <td>100</td>\n",
       "      <td>123</td>\n",
       "      <td>122</td>\n",
       "      <td>120</td>\n",
       "      <td>80</td>\n",
       "      <td>https://img.pokemondb.net/sprites/scarlet-viol...</td>\n",
       "      <td>https://pokemondb.net/pokedex/venusaur</td>\n",
       "      <td>2024-02-24 15:05:21</td>\n",
       "      <td>625</td>\n",
       "    </tr>\n",
       "    <tr>\n",
       "      <th>4</th>\n",
       "      <td>4</td>\n",
       "      <td>Charmander</td>\n",
       "      <td>Fire</td>\n",
       "      <td>309</td>\n",
       "      <td>39</td>\n",
       "      <td>52</td>\n",
       "      <td>43</td>\n",
       "      <td>60</td>\n",
       "      <td>50</td>\n",
       "      <td>65</td>\n",
       "      <td>https://img.pokemondb.net/sprites/scarlet-viol...</td>\n",
       "      <td>https://pokemondb.net/pokedex/charmander</td>\n",
       "      <td>2024-02-24 15:05:21</td>\n",
       "      <td>309</td>\n",
       "    </tr>\n",
       "  </tbody>\n",
       "</table>\n",
       "</div>"
      ],
      "text/plain": [
       "   rank           name          types  total_power  hit_points  attack  \\\n",
       "0     1      Bulbasaur  Grass, Poison          318          45      49   \n",
       "1     2        Ivysaur  Grass, Poison          405          60      62   \n",
       "2     3       Venusaur  Grass, Poison          525          80      82   \n",
       "3     3  Mega Venusaur  Grass, Poison          625          80     100   \n",
       "4     4     Charmander           Fire          309          39      52   \n",
       "\n",
       "   defense  special_attack  special_defense  speed  \\\n",
       "0       49              65               65     45   \n",
       "1       63              80               80     60   \n",
       "2       83             100              100     80   \n",
       "3      123             122              120     80   \n",
       "4       43              60               50     65   \n",
       "\n",
       "                                            icon_url  \\\n",
       "0  https://img.pokemondb.net/sprites/scarlet-viol...   \n",
       "1  https://img.pokemondb.net/sprites/scarlet-viol...   \n",
       "2  https://img.pokemondb.net/sprites/scarlet-viol...   \n",
       "3  https://img.pokemondb.net/sprites/scarlet-viol...   \n",
       "4  https://img.pokemondb.net/sprites/scarlet-viol...   \n",
       "\n",
       "                                details_url            scrape_ts  \\\n",
       "0   https://pokemondb.net/pokedex/bulbasaur  2024-02-24 15:05:21   \n",
       "1     https://pokemondb.net/pokedex/ivysaur  2024-02-24 15:05:21   \n",
       "2    https://pokemondb.net/pokedex/venusaur  2024-02-24 15:05:21   \n",
       "3    https://pokemondb.net/pokedex/venusaur  2024-02-24 15:05:21   \n",
       "4  https://pokemondb.net/pokedex/charmander  2024-02-24 15:05:21   \n",
       "\n",
       "   calculated_power  \n",
       "0               318  \n",
       "1               405  \n",
       "2               525  \n",
       "3               625  \n",
       "4               309  "
      ]
     },
     "execution_count": 10,
     "metadata": {},
     "output_type": "execute_result"
    }
   ],
   "source": [
    "df[\"calculated_power\"] = (\n",
    "    df[\"attack\"]\n",
    "    + df[\"defense\"]\n",
    "    + df[\"special_attack\"]\n",
    "    + df[\"special_defense\"]\n",
    "    + df[\"speed\"]\n",
    "    + df[\"hit_points\"]\n",
    ")\n",
    "\n",
    "df.head()"
   ]
  },
  {
   "cell_type": "code",
   "execution_count": 11,
   "metadata": {},
   "outputs": [
    {
     "data": {
      "text/html": [
       "<div>\n",
       "<style scoped>\n",
       "    .dataframe tbody tr th:only-of-type {\n",
       "        vertical-align: middle;\n",
       "    }\n",
       "\n",
       "    .dataframe tbody tr th {\n",
       "        vertical-align: top;\n",
       "    }\n",
       "\n",
       "    .dataframe thead th {\n",
       "        text-align: right;\n",
       "    }\n",
       "</style>\n",
       "<table border=\"1\" class=\"dataframe\">\n",
       "  <thead>\n",
       "    <tr style=\"text-align: right;\">\n",
       "      <th></th>\n",
       "      <th>rank</th>\n",
       "      <th>name</th>\n",
       "      <th>types</th>\n",
       "      <th>total_power</th>\n",
       "      <th>hit_points</th>\n",
       "      <th>attack</th>\n",
       "      <th>defense</th>\n",
       "      <th>special_attack</th>\n",
       "      <th>special_defense</th>\n",
       "      <th>speed</th>\n",
       "      <th>icon_url</th>\n",
       "      <th>details_url</th>\n",
       "      <th>scrape_ts</th>\n",
       "      <th>calculated_power</th>\n",
       "    </tr>\n",
       "  </thead>\n",
       "  <tbody>\n",
       "  </tbody>\n",
       "</table>\n",
       "</div>"
      ],
      "text/plain": [
       "Empty DataFrame\n",
       "Columns: [rank, name, types, total_power, hit_points, attack, defense, special_attack, special_defense, speed, icon_url, details_url, scrape_ts, calculated_power]\n",
       "Index: []"
      ]
     },
     "execution_count": 11,
     "metadata": {},
     "output_type": "execute_result"
    }
   ],
   "source": [
    "df[df[\"calculated_power\"] != df[\"total_power\"]]"
   ]
  },
  {
   "cell_type": "code",
   "execution_count": 12,
   "metadata": {},
   "outputs": [],
   "source": [
    "df = df.drop(columns=\"calculated_power\")"
   ]
  },
  {
   "cell_type": "markdown",
   "metadata": {},
   "source": [
    "As we can notice that the `total_power` is nothing but the sum of all the stats, so we can remove this column. "
   ]
  },
  {
   "cell_type": "markdown",
   "metadata": {},
   "source": [
    "Other transformation we need in the dataset are as follows:\n",
    "\n",
    "1. Create a unique row id: \"pokemon_id\"\n",
    "2. Remove the \"total_power\" column\n",
    "3. Split the \"types\" into rows\n",
    "4. Unpivot the metrics column\n",
    "5. Create a \"pokemon.db\" sqlite database\n",
    "6. Create a table `pokemons` with the following columns:\n",
    "   - \"pokemon_id\", \"rank\", \"name\", \"icon_url\", \"details_url\" , \"scrape_ts\" and remove duplicates\n",
    "7. Create a table `stats` with the following columns:\n",
    "   - \"pokemon_id\", \"types\", \"metric\", \"value\". This table needs to have a row_id (auto_incemented)\n"
   ]
  },
  {
   "cell_type": "markdown",
   "metadata": {},
   "source": [
    "### Unique Row ID Addition"
   ]
  },
  {
   "cell_type": "code",
   "execution_count": 13,
   "metadata": {},
   "outputs": [],
   "source": [
    "custom_index_col = pd.RangeIndex(\n",
    "    start=1000, stop=1000 + len(df), step=1, name=\"pokemon_id\"\n",
    ")\n",
    "\n",
    "\n",
    "\n",
    "df.index = custom_index_col\n",
    "\n",
    "df.index = \"P\" + df.index.astype(\"string\")\n",
    "\n",
    "df = df.reset_index()"
   ]
  },
  {
   "cell_type": "code",
   "execution_count": 14,
   "metadata": {},
   "outputs": [
    {
     "data": {
      "text/html": [
       "<div>\n",
       "<style scoped>\n",
       "    .dataframe tbody tr th:only-of-type {\n",
       "        vertical-align: middle;\n",
       "    }\n",
       "\n",
       "    .dataframe tbody tr th {\n",
       "        vertical-align: top;\n",
       "    }\n",
       "\n",
       "    .dataframe thead th {\n",
       "        text-align: right;\n",
       "    }\n",
       "</style>\n",
       "<table border=\"1\" class=\"dataframe\">\n",
       "  <thead>\n",
       "    <tr style=\"text-align: right;\">\n",
       "      <th></th>\n",
       "      <th>pokemon_id</th>\n",
       "      <th>rank</th>\n",
       "      <th>name</th>\n",
       "      <th>types</th>\n",
       "      <th>total_power</th>\n",
       "      <th>hit_points</th>\n",
       "      <th>attack</th>\n",
       "      <th>defense</th>\n",
       "      <th>special_attack</th>\n",
       "      <th>special_defense</th>\n",
       "      <th>speed</th>\n",
       "      <th>icon_url</th>\n",
       "      <th>details_url</th>\n",
       "      <th>scrape_ts</th>\n",
       "    </tr>\n",
       "  </thead>\n",
       "  <tbody>\n",
       "    <tr>\n",
       "      <th>0</th>\n",
       "      <td>P1000</td>\n",
       "      <td>1</td>\n",
       "      <td>Bulbasaur</td>\n",
       "      <td>Grass, Poison</td>\n",
       "      <td>318</td>\n",
       "      <td>45</td>\n",
       "      <td>49</td>\n",
       "      <td>49</td>\n",
       "      <td>65</td>\n",
       "      <td>65</td>\n",
       "      <td>45</td>\n",
       "      <td>https://img.pokemondb.net/sprites/scarlet-viol...</td>\n",
       "      <td>https://pokemondb.net/pokedex/bulbasaur</td>\n",
       "      <td>2024-02-24 15:05:21</td>\n",
       "    </tr>\n",
       "    <tr>\n",
       "      <th>1</th>\n",
       "      <td>P1001</td>\n",
       "      <td>2</td>\n",
       "      <td>Ivysaur</td>\n",
       "      <td>Grass, Poison</td>\n",
       "      <td>405</td>\n",
       "      <td>60</td>\n",
       "      <td>62</td>\n",
       "      <td>63</td>\n",
       "      <td>80</td>\n",
       "      <td>80</td>\n",
       "      <td>60</td>\n",
       "      <td>https://img.pokemondb.net/sprites/scarlet-viol...</td>\n",
       "      <td>https://pokemondb.net/pokedex/ivysaur</td>\n",
       "      <td>2024-02-24 15:05:21</td>\n",
       "    </tr>\n",
       "    <tr>\n",
       "      <th>2</th>\n",
       "      <td>P1002</td>\n",
       "      <td>3</td>\n",
       "      <td>Venusaur</td>\n",
       "      <td>Grass, Poison</td>\n",
       "      <td>525</td>\n",
       "      <td>80</td>\n",
       "      <td>82</td>\n",
       "      <td>83</td>\n",
       "      <td>100</td>\n",
       "      <td>100</td>\n",
       "      <td>80</td>\n",
       "      <td>https://img.pokemondb.net/sprites/scarlet-viol...</td>\n",
       "      <td>https://pokemondb.net/pokedex/venusaur</td>\n",
       "      <td>2024-02-24 15:05:21</td>\n",
       "    </tr>\n",
       "    <tr>\n",
       "      <th>3</th>\n",
       "      <td>P1003</td>\n",
       "      <td>3</td>\n",
       "      <td>Mega Venusaur</td>\n",
       "      <td>Grass, Poison</td>\n",
       "      <td>625</td>\n",
       "      <td>80</td>\n",
       "      <td>100</td>\n",
       "      <td>123</td>\n",
       "      <td>122</td>\n",
       "      <td>120</td>\n",
       "      <td>80</td>\n",
       "      <td>https://img.pokemondb.net/sprites/scarlet-viol...</td>\n",
       "      <td>https://pokemondb.net/pokedex/venusaur</td>\n",
       "      <td>2024-02-24 15:05:21</td>\n",
       "    </tr>\n",
       "    <tr>\n",
       "      <th>4</th>\n",
       "      <td>P1004</td>\n",
       "      <td>4</td>\n",
       "      <td>Charmander</td>\n",
       "      <td>Fire</td>\n",
       "      <td>309</td>\n",
       "      <td>39</td>\n",
       "      <td>52</td>\n",
       "      <td>43</td>\n",
       "      <td>60</td>\n",
       "      <td>50</td>\n",
       "      <td>65</td>\n",
       "      <td>https://img.pokemondb.net/sprites/scarlet-viol...</td>\n",
       "      <td>https://pokemondb.net/pokedex/charmander</td>\n",
       "      <td>2024-02-24 15:05:21</td>\n",
       "    </tr>\n",
       "  </tbody>\n",
       "</table>\n",
       "</div>"
      ],
      "text/plain": [
       "  pokemon_id  rank           name          types  total_power  hit_points  \\\n",
       "0      P1000     1      Bulbasaur  Grass, Poison          318          45   \n",
       "1      P1001     2        Ivysaur  Grass, Poison          405          60   \n",
       "2      P1002     3       Venusaur  Grass, Poison          525          80   \n",
       "3      P1003     3  Mega Venusaur  Grass, Poison          625          80   \n",
       "4      P1004     4     Charmander           Fire          309          39   \n",
       "\n",
       "   attack  defense  special_attack  special_defense  speed  \\\n",
       "0      49       49              65               65     45   \n",
       "1      62       63              80               80     60   \n",
       "2      82       83             100              100     80   \n",
       "3     100      123             122              120     80   \n",
       "4      52       43              60               50     65   \n",
       "\n",
       "                                            icon_url  \\\n",
       "0  https://img.pokemondb.net/sprites/scarlet-viol...   \n",
       "1  https://img.pokemondb.net/sprites/scarlet-viol...   \n",
       "2  https://img.pokemondb.net/sprites/scarlet-viol...   \n",
       "3  https://img.pokemondb.net/sprites/scarlet-viol...   \n",
       "4  https://img.pokemondb.net/sprites/scarlet-viol...   \n",
       "\n",
       "                                details_url            scrape_ts  \n",
       "0   https://pokemondb.net/pokedex/bulbasaur  2024-02-24 15:05:21  \n",
       "1     https://pokemondb.net/pokedex/ivysaur  2024-02-24 15:05:21  \n",
       "2    https://pokemondb.net/pokedex/venusaur  2024-02-24 15:05:21  \n",
       "3    https://pokemondb.net/pokedex/venusaur  2024-02-24 15:05:21  \n",
       "4  https://pokemondb.net/pokedex/charmander  2024-02-24 15:05:21  "
      ]
     },
     "execution_count": 14,
     "metadata": {},
     "output_type": "execute_result"
    }
   ],
   "source": [
    "df.head()"
   ]
  },
  {
   "cell_type": "code",
   "execution_count": 15,
   "metadata": {},
   "outputs": [],
   "source": [
    "df[\"types\"] = df[\"types\"].str.split(\",\")"
   ]
  },
  {
   "cell_type": "code",
   "execution_count": 16,
   "metadata": {},
   "outputs": [
    {
     "data": {
      "text/html": [
       "<div>\n",
       "<style scoped>\n",
       "    .dataframe tbody tr th:only-of-type {\n",
       "        vertical-align: middle;\n",
       "    }\n",
       "\n",
       "    .dataframe tbody tr th {\n",
       "        vertical-align: top;\n",
       "    }\n",
       "\n",
       "    .dataframe thead th {\n",
       "        text-align: right;\n",
       "    }\n",
       "</style>\n",
       "<table border=\"1\" class=\"dataframe\">\n",
       "  <thead>\n",
       "    <tr style=\"text-align: right;\">\n",
       "      <th></th>\n",
       "      <th>pokemon_id</th>\n",
       "      <th>rank</th>\n",
       "      <th>name</th>\n",
       "      <th>types</th>\n",
       "      <th>total_power</th>\n",
       "      <th>hit_points</th>\n",
       "      <th>attack</th>\n",
       "      <th>defense</th>\n",
       "      <th>special_attack</th>\n",
       "      <th>special_defense</th>\n",
       "      <th>speed</th>\n",
       "      <th>icon_url</th>\n",
       "      <th>details_url</th>\n",
       "      <th>scrape_ts</th>\n",
       "    </tr>\n",
       "  </thead>\n",
       "  <tbody>\n",
       "    <tr>\n",
       "      <th>0</th>\n",
       "      <td>P1000</td>\n",
       "      <td>1</td>\n",
       "      <td>Bulbasaur</td>\n",
       "      <td>Grass</td>\n",
       "      <td>318</td>\n",
       "      <td>45</td>\n",
       "      <td>49</td>\n",
       "      <td>49</td>\n",
       "      <td>65</td>\n",
       "      <td>65</td>\n",
       "      <td>45</td>\n",
       "      <td>https://img.pokemondb.net/sprites/scarlet-viol...</td>\n",
       "      <td>https://pokemondb.net/pokedex/bulbasaur</td>\n",
       "      <td>2024-02-24 15:05:21</td>\n",
       "    </tr>\n",
       "    <tr>\n",
       "      <th>0</th>\n",
       "      <td>P1000</td>\n",
       "      <td>1</td>\n",
       "      <td>Bulbasaur</td>\n",
       "      <td>Poison</td>\n",
       "      <td>318</td>\n",
       "      <td>45</td>\n",
       "      <td>49</td>\n",
       "      <td>49</td>\n",
       "      <td>65</td>\n",
       "      <td>65</td>\n",
       "      <td>45</td>\n",
       "      <td>https://img.pokemondb.net/sprites/scarlet-viol...</td>\n",
       "      <td>https://pokemondb.net/pokedex/bulbasaur</td>\n",
       "      <td>2024-02-24 15:05:21</td>\n",
       "    </tr>\n",
       "    <tr>\n",
       "      <th>1</th>\n",
       "      <td>P1001</td>\n",
       "      <td>2</td>\n",
       "      <td>Ivysaur</td>\n",
       "      <td>Grass</td>\n",
       "      <td>405</td>\n",
       "      <td>60</td>\n",
       "      <td>62</td>\n",
       "      <td>63</td>\n",
       "      <td>80</td>\n",
       "      <td>80</td>\n",
       "      <td>60</td>\n",
       "      <td>https://img.pokemondb.net/sprites/scarlet-viol...</td>\n",
       "      <td>https://pokemondb.net/pokedex/ivysaur</td>\n",
       "      <td>2024-02-24 15:05:21</td>\n",
       "    </tr>\n",
       "    <tr>\n",
       "      <th>1</th>\n",
       "      <td>P1001</td>\n",
       "      <td>2</td>\n",
       "      <td>Ivysaur</td>\n",
       "      <td>Poison</td>\n",
       "      <td>405</td>\n",
       "      <td>60</td>\n",
       "      <td>62</td>\n",
       "      <td>63</td>\n",
       "      <td>80</td>\n",
       "      <td>80</td>\n",
       "      <td>60</td>\n",
       "      <td>https://img.pokemondb.net/sprites/scarlet-viol...</td>\n",
       "      <td>https://pokemondb.net/pokedex/ivysaur</td>\n",
       "      <td>2024-02-24 15:05:21</td>\n",
       "    </tr>\n",
       "    <tr>\n",
       "      <th>2</th>\n",
       "      <td>P1002</td>\n",
       "      <td>3</td>\n",
       "      <td>Venusaur</td>\n",
       "      <td>Grass</td>\n",
       "      <td>525</td>\n",
       "      <td>80</td>\n",
       "      <td>82</td>\n",
       "      <td>83</td>\n",
       "      <td>100</td>\n",
       "      <td>100</td>\n",
       "      <td>80</td>\n",
       "      <td>https://img.pokemondb.net/sprites/scarlet-viol...</td>\n",
       "      <td>https://pokemondb.net/pokedex/venusaur</td>\n",
       "      <td>2024-02-24 15:05:21</td>\n",
       "    </tr>\n",
       "  </tbody>\n",
       "</table>\n",
       "</div>"
      ],
      "text/plain": [
       "  pokemon_id  rank       name    types  total_power  hit_points  attack  \\\n",
       "0      P1000     1  Bulbasaur    Grass          318          45      49   \n",
       "0      P1000     1  Bulbasaur   Poison          318          45      49   \n",
       "1      P1001     2    Ivysaur    Grass          405          60      62   \n",
       "1      P1001     2    Ivysaur   Poison          405          60      62   \n",
       "2      P1002     3   Venusaur    Grass          525          80      82   \n",
       "\n",
       "   defense  special_attack  special_defense  speed  \\\n",
       "0       49              65               65     45   \n",
       "0       49              65               65     45   \n",
       "1       63              80               80     60   \n",
       "1       63              80               80     60   \n",
       "2       83             100              100     80   \n",
       "\n",
       "                                            icon_url  \\\n",
       "0  https://img.pokemondb.net/sprites/scarlet-viol...   \n",
       "0  https://img.pokemondb.net/sprites/scarlet-viol...   \n",
       "1  https://img.pokemondb.net/sprites/scarlet-viol...   \n",
       "1  https://img.pokemondb.net/sprites/scarlet-viol...   \n",
       "2  https://img.pokemondb.net/sprites/scarlet-viol...   \n",
       "\n",
       "                               details_url            scrape_ts  \n",
       "0  https://pokemondb.net/pokedex/bulbasaur  2024-02-24 15:05:21  \n",
       "0  https://pokemondb.net/pokedex/bulbasaur  2024-02-24 15:05:21  \n",
       "1    https://pokemondb.net/pokedex/ivysaur  2024-02-24 15:05:21  \n",
       "1    https://pokemondb.net/pokedex/ivysaur  2024-02-24 15:05:21  \n",
       "2   https://pokemondb.net/pokedex/venusaur  2024-02-24 15:05:21  "
      ]
     },
     "execution_count": 16,
     "metadata": {},
     "output_type": "execute_result"
    }
   ],
   "source": [
    "# Explode the 'types_2' column\n",
    "df_exploded = df.explode(\"types\")\n",
    "df_exploded.head()"
   ]
  },
  {
   "cell_type": "code",
   "execution_count": 17,
   "metadata": {},
   "outputs": [
    {
     "name": "stdout",
     "output_type": "stream",
     "text": [
      "<class 'pandas.core.frame.DataFrame'>\n",
      "Index: 1884 entries, 0 to 1214\n",
      "Data columns (total 14 columns):\n",
      " #   Column           Non-Null Count  Dtype \n",
      "---  ------           --------------  ----- \n",
      " 0   pokemon_id       1884 non-null   string\n",
      " 1   rank             1884 non-null   int64 \n",
      " 2   name             1884 non-null   object\n",
      " 3   types            1884 non-null   object\n",
      " 4   total_power      1884 non-null   int64 \n",
      " 5   hit_points       1884 non-null   int64 \n",
      " 6   attack           1884 non-null   int64 \n",
      " 7   defense          1884 non-null   int64 \n",
      " 8   special_attack   1884 non-null   int64 \n",
      " 9   special_defense  1884 non-null   int64 \n",
      " 10  speed            1884 non-null   int64 \n",
      " 11  icon_url         1884 non-null   object\n",
      " 12  details_url      1884 non-null   object\n",
      " 13  scrape_ts        1884 non-null   object\n",
      "dtypes: int64(8), object(5), string(1)\n",
      "memory usage: 220.8+ KB\n"
     ]
    }
   ],
   "source": [
    "df_exploded.info()"
   ]
  },
  {
   "cell_type": "markdown",
   "metadata": {},
   "source": [
    "### Remove Columns"
   ]
  },
  {
   "cell_type": "code",
   "execution_count": 18,
   "metadata": {},
   "outputs": [
    {
     "data": {
      "text/html": [
       "<div>\n",
       "<style scoped>\n",
       "    .dataframe tbody tr th:only-of-type {\n",
       "        vertical-align: middle;\n",
       "    }\n",
       "\n",
       "    .dataframe tbody tr th {\n",
       "        vertical-align: top;\n",
       "    }\n",
       "\n",
       "    .dataframe thead th {\n",
       "        text-align: right;\n",
       "    }\n",
       "</style>\n",
       "<table border=\"1\" class=\"dataframe\">\n",
       "  <thead>\n",
       "    <tr style=\"text-align: right;\">\n",
       "      <th></th>\n",
       "      <th>pokemon_id</th>\n",
       "      <th>rank</th>\n",
       "      <th>name</th>\n",
       "      <th>types</th>\n",
       "      <th>hit_points</th>\n",
       "      <th>attack</th>\n",
       "      <th>defense</th>\n",
       "      <th>special_attack</th>\n",
       "      <th>special_defense</th>\n",
       "      <th>speed</th>\n",
       "      <th>icon_url</th>\n",
       "      <th>details_url</th>\n",
       "      <th>scrape_ts</th>\n",
       "    </tr>\n",
       "  </thead>\n",
       "  <tbody>\n",
       "    <tr>\n",
       "      <th>0</th>\n",
       "      <td>P1000</td>\n",
       "      <td>1</td>\n",
       "      <td>Bulbasaur</td>\n",
       "      <td>Grass</td>\n",
       "      <td>45</td>\n",
       "      <td>49</td>\n",
       "      <td>49</td>\n",
       "      <td>65</td>\n",
       "      <td>65</td>\n",
       "      <td>45</td>\n",
       "      <td>https://img.pokemondb.net/sprites/scarlet-viol...</td>\n",
       "      <td>https://pokemondb.net/pokedex/bulbasaur</td>\n",
       "      <td>2024-02-24 15:05:21</td>\n",
       "    </tr>\n",
       "    <tr>\n",
       "      <th>0</th>\n",
       "      <td>P1000</td>\n",
       "      <td>1</td>\n",
       "      <td>Bulbasaur</td>\n",
       "      <td>Poison</td>\n",
       "      <td>45</td>\n",
       "      <td>49</td>\n",
       "      <td>49</td>\n",
       "      <td>65</td>\n",
       "      <td>65</td>\n",
       "      <td>45</td>\n",
       "      <td>https://img.pokemondb.net/sprites/scarlet-viol...</td>\n",
       "      <td>https://pokemondb.net/pokedex/bulbasaur</td>\n",
       "      <td>2024-02-24 15:05:21</td>\n",
       "    </tr>\n",
       "    <tr>\n",
       "      <th>1</th>\n",
       "      <td>P1001</td>\n",
       "      <td>2</td>\n",
       "      <td>Ivysaur</td>\n",
       "      <td>Grass</td>\n",
       "      <td>60</td>\n",
       "      <td>62</td>\n",
       "      <td>63</td>\n",
       "      <td>80</td>\n",
       "      <td>80</td>\n",
       "      <td>60</td>\n",
       "      <td>https://img.pokemondb.net/sprites/scarlet-viol...</td>\n",
       "      <td>https://pokemondb.net/pokedex/ivysaur</td>\n",
       "      <td>2024-02-24 15:05:21</td>\n",
       "    </tr>\n",
       "    <tr>\n",
       "      <th>1</th>\n",
       "      <td>P1001</td>\n",
       "      <td>2</td>\n",
       "      <td>Ivysaur</td>\n",
       "      <td>Poison</td>\n",
       "      <td>60</td>\n",
       "      <td>62</td>\n",
       "      <td>63</td>\n",
       "      <td>80</td>\n",
       "      <td>80</td>\n",
       "      <td>60</td>\n",
       "      <td>https://img.pokemondb.net/sprites/scarlet-viol...</td>\n",
       "      <td>https://pokemondb.net/pokedex/ivysaur</td>\n",
       "      <td>2024-02-24 15:05:21</td>\n",
       "    </tr>\n",
       "    <tr>\n",
       "      <th>2</th>\n",
       "      <td>P1002</td>\n",
       "      <td>3</td>\n",
       "      <td>Venusaur</td>\n",
       "      <td>Grass</td>\n",
       "      <td>80</td>\n",
       "      <td>82</td>\n",
       "      <td>83</td>\n",
       "      <td>100</td>\n",
       "      <td>100</td>\n",
       "      <td>80</td>\n",
       "      <td>https://img.pokemondb.net/sprites/scarlet-viol...</td>\n",
       "      <td>https://pokemondb.net/pokedex/venusaur</td>\n",
       "      <td>2024-02-24 15:05:21</td>\n",
       "    </tr>\n",
       "  </tbody>\n",
       "</table>\n",
       "</div>"
      ],
      "text/plain": [
       "  pokemon_id  rank       name    types  hit_points  attack  defense  \\\n",
       "0      P1000     1  Bulbasaur    Grass          45      49       49   \n",
       "0      P1000     1  Bulbasaur   Poison          45      49       49   \n",
       "1      P1001     2    Ivysaur    Grass          60      62       63   \n",
       "1      P1001     2    Ivysaur   Poison          60      62       63   \n",
       "2      P1002     3   Venusaur    Grass          80      82       83   \n",
       "\n",
       "   special_attack  special_defense  speed  \\\n",
       "0              65               65     45   \n",
       "0              65               65     45   \n",
       "1              80               80     60   \n",
       "1              80               80     60   \n",
       "2             100              100     80   \n",
       "\n",
       "                                            icon_url  \\\n",
       "0  https://img.pokemondb.net/sprites/scarlet-viol...   \n",
       "0  https://img.pokemondb.net/sprites/scarlet-viol...   \n",
       "1  https://img.pokemondb.net/sprites/scarlet-viol...   \n",
       "1  https://img.pokemondb.net/sprites/scarlet-viol...   \n",
       "2  https://img.pokemondb.net/sprites/scarlet-viol...   \n",
       "\n",
       "                               details_url            scrape_ts  \n",
       "0  https://pokemondb.net/pokedex/bulbasaur  2024-02-24 15:05:21  \n",
       "0  https://pokemondb.net/pokedex/bulbasaur  2024-02-24 15:05:21  \n",
       "1    https://pokemondb.net/pokedex/ivysaur  2024-02-24 15:05:21  \n",
       "1    https://pokemondb.net/pokedex/ivysaur  2024-02-24 15:05:21  \n",
       "2   https://pokemondb.net/pokedex/venusaur  2024-02-24 15:05:21  "
      ]
     },
     "execution_count": 18,
     "metadata": {},
     "output_type": "execute_result"
    }
   ],
   "source": [
    "df_exploded = df_exploded.drop(columns=[\"total_power\"])\n",
    "df_exploded.head()"
   ]
  },
  {
   "cell_type": "markdown",
   "metadata": {},
   "source": [
    "### Unpivot Stats"
   ]
  },
  {
   "cell_type": "code",
   "execution_count": 19,
   "metadata": {},
   "outputs": [
    {
     "data": {
      "text/html": [
       "<div>\n",
       "<style scoped>\n",
       "    .dataframe tbody tr th:only-of-type {\n",
       "        vertical-align: middle;\n",
       "    }\n",
       "\n",
       "    .dataframe tbody tr th {\n",
       "        vertical-align: top;\n",
       "    }\n",
       "\n",
       "    .dataframe thead th {\n",
       "        text-align: right;\n",
       "    }\n",
       "</style>\n",
       "<table border=\"1\" class=\"dataframe\">\n",
       "  <thead>\n",
       "    <tr style=\"text-align: right;\">\n",
       "      <th></th>\n",
       "      <th>pokemon_id</th>\n",
       "      <th>rank</th>\n",
       "      <th>name</th>\n",
       "      <th>types</th>\n",
       "      <th>icon_url</th>\n",
       "      <th>details_url</th>\n",
       "      <th>scrape_ts</th>\n",
       "      <th>metric</th>\n",
       "      <th>value</th>\n",
       "    </tr>\n",
       "  </thead>\n",
       "  <tbody>\n",
       "    <tr>\n",
       "      <th>0</th>\n",
       "      <td>P1000</td>\n",
       "      <td>1</td>\n",
       "      <td>Bulbasaur</td>\n",
       "      <td>Grass</td>\n",
       "      <td>https://img.pokemondb.net/sprites/scarlet-viol...</td>\n",
       "      <td>https://pokemondb.net/pokedex/bulbasaur</td>\n",
       "      <td>2024-02-24 15:05:21</td>\n",
       "      <td>hit_points</td>\n",
       "      <td>45</td>\n",
       "    </tr>\n",
       "    <tr>\n",
       "      <th>1</th>\n",
       "      <td>P1000</td>\n",
       "      <td>1</td>\n",
       "      <td>Bulbasaur</td>\n",
       "      <td>Poison</td>\n",
       "      <td>https://img.pokemondb.net/sprites/scarlet-viol...</td>\n",
       "      <td>https://pokemondb.net/pokedex/bulbasaur</td>\n",
       "      <td>2024-02-24 15:05:21</td>\n",
       "      <td>hit_points</td>\n",
       "      <td>45</td>\n",
       "    </tr>\n",
       "    <tr>\n",
       "      <th>2</th>\n",
       "      <td>P1001</td>\n",
       "      <td>2</td>\n",
       "      <td>Ivysaur</td>\n",
       "      <td>Grass</td>\n",
       "      <td>https://img.pokemondb.net/sprites/scarlet-viol...</td>\n",
       "      <td>https://pokemondb.net/pokedex/ivysaur</td>\n",
       "      <td>2024-02-24 15:05:21</td>\n",
       "      <td>hit_points</td>\n",
       "      <td>60</td>\n",
       "    </tr>\n",
       "    <tr>\n",
       "      <th>3</th>\n",
       "      <td>P1001</td>\n",
       "      <td>2</td>\n",
       "      <td>Ivysaur</td>\n",
       "      <td>Poison</td>\n",
       "      <td>https://img.pokemondb.net/sprites/scarlet-viol...</td>\n",
       "      <td>https://pokemondb.net/pokedex/ivysaur</td>\n",
       "      <td>2024-02-24 15:05:21</td>\n",
       "      <td>hit_points</td>\n",
       "      <td>60</td>\n",
       "    </tr>\n",
       "    <tr>\n",
       "      <th>4</th>\n",
       "      <td>P1002</td>\n",
       "      <td>3</td>\n",
       "      <td>Venusaur</td>\n",
       "      <td>Grass</td>\n",
       "      <td>https://img.pokemondb.net/sprites/scarlet-viol...</td>\n",
       "      <td>https://pokemondb.net/pokedex/venusaur</td>\n",
       "      <td>2024-02-24 15:05:21</td>\n",
       "      <td>hit_points</td>\n",
       "      <td>80</td>\n",
       "    </tr>\n",
       "    <tr>\n",
       "      <th>...</th>\n",
       "      <td>...</td>\n",
       "      <td>...</td>\n",
       "      <td>...</td>\n",
       "      <td>...</td>\n",
       "      <td>...</td>\n",
       "      <td>...</td>\n",
       "      <td>...</td>\n",
       "      <td>...</td>\n",
       "      <td>...</td>\n",
       "    </tr>\n",
       "    <tr>\n",
       "      <th>11299</th>\n",
       "      <td>P2211</td>\n",
       "      <td>1024</td>\n",
       "      <td>Normal Form</td>\n",
       "      <td>Normal</td>\n",
       "      <td>https://img.pokemondb.net/sprites/scarlet-viol...</td>\n",
       "      <td>https://pokemondb.net/pokedex/terapagos</td>\n",
       "      <td>2024-02-24 15:05:22</td>\n",
       "      <td>speed</td>\n",
       "      <td>60</td>\n",
       "    </tr>\n",
       "    <tr>\n",
       "      <th>11300</th>\n",
       "      <td>P2212</td>\n",
       "      <td>1024</td>\n",
       "      <td>Terastal Form</td>\n",
       "      <td>Normal</td>\n",
       "      <td>https://img.pokemondb.net/sprites/scarlet-viol...</td>\n",
       "      <td>https://pokemondb.net/pokedex/terapagos</td>\n",
       "      <td>2024-02-24 15:05:22</td>\n",
       "      <td>speed</td>\n",
       "      <td>85</td>\n",
       "    </tr>\n",
       "    <tr>\n",
       "      <th>11301</th>\n",
       "      <td>P2213</td>\n",
       "      <td>1024</td>\n",
       "      <td>Stellar Form</td>\n",
       "      <td>Normal</td>\n",
       "      <td>https://img.pokemondb.net/sprites/scarlet-viol...</td>\n",
       "      <td>https://pokemondb.net/pokedex/terapagos</td>\n",
       "      <td>2024-02-24 15:05:22</td>\n",
       "      <td>speed</td>\n",
       "      <td>85</td>\n",
       "    </tr>\n",
       "    <tr>\n",
       "      <th>11302</th>\n",
       "      <td>P2214</td>\n",
       "      <td>1025</td>\n",
       "      <td>Pecharunt</td>\n",
       "      <td>Poison</td>\n",
       "      <td>https://img.pokemondb.net/sprites/scarlet-viol...</td>\n",
       "      <td>https://pokemondb.net/pokedex/pecharunt</td>\n",
       "      <td>2024-02-24 15:05:22</td>\n",
       "      <td>speed</td>\n",
       "      <td>88</td>\n",
       "    </tr>\n",
       "    <tr>\n",
       "      <th>11303</th>\n",
       "      <td>P2214</td>\n",
       "      <td>1025</td>\n",
       "      <td>Pecharunt</td>\n",
       "      <td>Ghost</td>\n",
       "      <td>https://img.pokemondb.net/sprites/scarlet-viol...</td>\n",
       "      <td>https://pokemondb.net/pokedex/pecharunt</td>\n",
       "      <td>2024-02-24 15:05:22</td>\n",
       "      <td>speed</td>\n",
       "      <td>88</td>\n",
       "    </tr>\n",
       "  </tbody>\n",
       "</table>\n",
       "<p>11304 rows × 9 columns</p>\n",
       "</div>"
      ],
      "text/plain": [
       "      pokemon_id  rank           name    types  \\\n",
       "0          P1000     1      Bulbasaur    Grass   \n",
       "1          P1000     1      Bulbasaur   Poison   \n",
       "2          P1001     2        Ivysaur    Grass   \n",
       "3          P1001     2        Ivysaur   Poison   \n",
       "4          P1002     3       Venusaur    Grass   \n",
       "...          ...   ...            ...      ...   \n",
       "11299      P2211  1024    Normal Form   Normal   \n",
       "11300      P2212  1024  Terastal Form   Normal   \n",
       "11301      P2213  1024   Stellar Form   Normal   \n",
       "11302      P2214  1025      Pecharunt   Poison   \n",
       "11303      P2214  1025      Pecharunt    Ghost   \n",
       "\n",
       "                                                icon_url  \\\n",
       "0      https://img.pokemondb.net/sprites/scarlet-viol...   \n",
       "1      https://img.pokemondb.net/sprites/scarlet-viol...   \n",
       "2      https://img.pokemondb.net/sprites/scarlet-viol...   \n",
       "3      https://img.pokemondb.net/sprites/scarlet-viol...   \n",
       "4      https://img.pokemondb.net/sprites/scarlet-viol...   \n",
       "...                                                  ...   \n",
       "11299  https://img.pokemondb.net/sprites/scarlet-viol...   \n",
       "11300  https://img.pokemondb.net/sprites/scarlet-viol...   \n",
       "11301  https://img.pokemondb.net/sprites/scarlet-viol...   \n",
       "11302  https://img.pokemondb.net/sprites/scarlet-viol...   \n",
       "11303  https://img.pokemondb.net/sprites/scarlet-viol...   \n",
       "\n",
       "                                   details_url            scrape_ts  \\\n",
       "0      https://pokemondb.net/pokedex/bulbasaur  2024-02-24 15:05:21   \n",
       "1      https://pokemondb.net/pokedex/bulbasaur  2024-02-24 15:05:21   \n",
       "2        https://pokemondb.net/pokedex/ivysaur  2024-02-24 15:05:21   \n",
       "3        https://pokemondb.net/pokedex/ivysaur  2024-02-24 15:05:21   \n",
       "4       https://pokemondb.net/pokedex/venusaur  2024-02-24 15:05:21   \n",
       "...                                        ...                  ...   \n",
       "11299  https://pokemondb.net/pokedex/terapagos  2024-02-24 15:05:22   \n",
       "11300  https://pokemondb.net/pokedex/terapagos  2024-02-24 15:05:22   \n",
       "11301  https://pokemondb.net/pokedex/terapagos  2024-02-24 15:05:22   \n",
       "11302  https://pokemondb.net/pokedex/pecharunt  2024-02-24 15:05:22   \n",
       "11303  https://pokemondb.net/pokedex/pecharunt  2024-02-24 15:05:22   \n",
       "\n",
       "           metric  value  \n",
       "0      hit_points     45  \n",
       "1      hit_points     45  \n",
       "2      hit_points     60  \n",
       "3      hit_points     60  \n",
       "4      hit_points     80  \n",
       "...           ...    ...  \n",
       "11299       speed     60  \n",
       "11300       speed     85  \n",
       "11301       speed     85  \n",
       "11302       speed     88  \n",
       "11303       speed     88  \n",
       "\n",
       "[11304 rows x 9 columns]"
      ]
     },
     "execution_count": 19,
     "metadata": {},
     "output_type": "execute_result"
    }
   ],
   "source": [
    "df_exploded = df_exploded.melt(\n",
    "    id_vars=[\n",
    "        \"pokemon_id\",\n",
    "        \"rank\",\n",
    "        \"name\",\n",
    "        \"types\",\n",
    "        \"icon_url\",\n",
    "        \"details_url\",\n",
    "        \"scrape_ts\",\n",
    "    ],\n",
    "    value_vars=[\n",
    "        \"hit_points\",\n",
    "        \"attack\",\n",
    "        \"defense\",\n",
    "        \"special_attack\",\n",
    "        \"special_defense\",\n",
    "        \"speed\",\n",
    "    ],\n",
    "    var_name=\"metric\",\n",
    "    value_name=\"value\",\n",
    ")\n",
    "\n",
    "\n",
    "df_exploded"
   ]
  },
  {
   "cell_type": "markdown",
   "metadata": {},
   "source": [
    "### Create `pokemons` Table"
   ]
  },
  {
   "cell_type": "code",
   "execution_count": 20,
   "metadata": {},
   "outputs": [
    {
     "data": {
      "text/html": [
       "<div>\n",
       "<style scoped>\n",
       "    .dataframe tbody tr th:only-of-type {\n",
       "        vertical-align: middle;\n",
       "    }\n",
       "\n",
       "    .dataframe tbody tr th {\n",
       "        vertical-align: top;\n",
       "    }\n",
       "\n",
       "    .dataframe thead th {\n",
       "        text-align: right;\n",
       "    }\n",
       "</style>\n",
       "<table border=\"1\" class=\"dataframe\">\n",
       "  <thead>\n",
       "    <tr style=\"text-align: right;\">\n",
       "      <th></th>\n",
       "      <th>pokemon_id</th>\n",
       "      <th>rank</th>\n",
       "      <th>name</th>\n",
       "      <th>icon_url</th>\n",
       "      <th>details_url</th>\n",
       "    </tr>\n",
       "  </thead>\n",
       "  <tbody>\n",
       "    <tr>\n",
       "      <th>0</th>\n",
       "      <td>P1000</td>\n",
       "      <td>1</td>\n",
       "      <td>Bulbasaur</td>\n",
       "      <td>https://img.pokemondb.net/sprites/scarlet-viol...</td>\n",
       "      <td>https://pokemondb.net/pokedex/bulbasaur</td>\n",
       "    </tr>\n",
       "    <tr>\n",
       "      <th>1</th>\n",
       "      <td>P1000</td>\n",
       "      <td>1</td>\n",
       "      <td>Bulbasaur</td>\n",
       "      <td>https://img.pokemondb.net/sprites/scarlet-viol...</td>\n",
       "      <td>https://pokemondb.net/pokedex/bulbasaur</td>\n",
       "    </tr>\n",
       "    <tr>\n",
       "      <th>2</th>\n",
       "      <td>P1001</td>\n",
       "      <td>2</td>\n",
       "      <td>Ivysaur</td>\n",
       "      <td>https://img.pokemondb.net/sprites/scarlet-viol...</td>\n",
       "      <td>https://pokemondb.net/pokedex/ivysaur</td>\n",
       "    </tr>\n",
       "    <tr>\n",
       "      <th>3</th>\n",
       "      <td>P1001</td>\n",
       "      <td>2</td>\n",
       "      <td>Ivysaur</td>\n",
       "      <td>https://img.pokemondb.net/sprites/scarlet-viol...</td>\n",
       "      <td>https://pokemondb.net/pokedex/ivysaur</td>\n",
       "    </tr>\n",
       "    <tr>\n",
       "      <th>4</th>\n",
       "      <td>P1002</td>\n",
       "      <td>3</td>\n",
       "      <td>Venusaur</td>\n",
       "      <td>https://img.pokemondb.net/sprites/scarlet-viol...</td>\n",
       "      <td>https://pokemondb.net/pokedex/venusaur</td>\n",
       "    </tr>\n",
       "  </tbody>\n",
       "</table>\n",
       "</div>"
      ],
      "text/plain": [
       "  pokemon_id  rank       name  \\\n",
       "0      P1000     1  Bulbasaur   \n",
       "1      P1000     1  Bulbasaur   \n",
       "2      P1001     2    Ivysaur   \n",
       "3      P1001     2    Ivysaur   \n",
       "4      P1002     3   Venusaur   \n",
       "\n",
       "                                            icon_url  \\\n",
       "0  https://img.pokemondb.net/sprites/scarlet-viol...   \n",
       "1  https://img.pokemondb.net/sprites/scarlet-viol...   \n",
       "2  https://img.pokemondb.net/sprites/scarlet-viol...   \n",
       "3  https://img.pokemondb.net/sprites/scarlet-viol...   \n",
       "4  https://img.pokemondb.net/sprites/scarlet-viol...   \n",
       "\n",
       "                               details_url  \n",
       "0  https://pokemondb.net/pokedex/bulbasaur  \n",
       "1  https://pokemondb.net/pokedex/bulbasaur  \n",
       "2    https://pokemondb.net/pokedex/ivysaur  \n",
       "3    https://pokemondb.net/pokedex/ivysaur  \n",
       "4   https://pokemondb.net/pokedex/venusaur  "
      ]
     },
     "execution_count": 20,
     "metadata": {},
     "output_type": "execute_result"
    }
   ],
   "source": [
    "req_cols = [\"pokemon_id\", \"rank\", \"name\", \"icon_url\", \"details_url\"]\n",
    "pokemons_tbl = df_exploded[req_cols]\n",
    "pokemons_tbl.head()"
   ]
  },
  {
   "cell_type": "code",
   "execution_count": 21,
   "metadata": {},
   "outputs": [
    {
     "name": "stdout",
     "output_type": "stream",
     "text": [
      "<class 'pandas.core.frame.DataFrame'>\n",
      "RangeIndex: 11304 entries, 0 to 11303\n",
      "Data columns (total 5 columns):\n",
      " #   Column       Non-Null Count  Dtype \n",
      "---  ------       --------------  ----- \n",
      " 0   pokemon_id   11304 non-null  string\n",
      " 1   rank         11304 non-null  int64 \n",
      " 2   name         11304 non-null  object\n",
      " 3   icon_url     11304 non-null  object\n",
      " 4   details_url  11304 non-null  object\n",
      "dtypes: int64(1), object(3), string(1)\n",
      "memory usage: 441.7+ KB\n"
     ]
    }
   ],
   "source": [
    "pokemons_tbl.info()"
   ]
  },
  {
   "cell_type": "code",
   "execution_count": 22,
   "metadata": {},
   "outputs": [],
   "source": [
    "pokemons_tbl = pokemons_tbl.drop_duplicates()"
   ]
  },
  {
   "cell_type": "code",
   "execution_count": 23,
   "metadata": {},
   "outputs": [
    {
     "data": {
      "text/html": [
       "<div>\n",
       "<style scoped>\n",
       "    .dataframe tbody tr th:only-of-type {\n",
       "        vertical-align: middle;\n",
       "    }\n",
       "\n",
       "    .dataframe tbody tr th {\n",
       "        vertical-align: top;\n",
       "    }\n",
       "\n",
       "    .dataframe thead th {\n",
       "        text-align: right;\n",
       "    }\n",
       "</style>\n",
       "<table border=\"1\" class=\"dataframe\">\n",
       "  <thead>\n",
       "    <tr style=\"text-align: right;\">\n",
       "      <th></th>\n",
       "      <th>pokemon_id</th>\n",
       "      <th>types</th>\n",
       "      <th>metric</th>\n",
       "      <th>value</th>\n",
       "    </tr>\n",
       "  </thead>\n",
       "  <tbody>\n",
       "    <tr>\n",
       "      <th>0</th>\n",
       "      <td>P1000</td>\n",
       "      <td>Grass</td>\n",
       "      <td>hit_points</td>\n",
       "      <td>45</td>\n",
       "    </tr>\n",
       "    <tr>\n",
       "      <th>1</th>\n",
       "      <td>P1000</td>\n",
       "      <td>Poison</td>\n",
       "      <td>hit_points</td>\n",
       "      <td>45</td>\n",
       "    </tr>\n",
       "    <tr>\n",
       "      <th>2</th>\n",
       "      <td>P1001</td>\n",
       "      <td>Grass</td>\n",
       "      <td>hit_points</td>\n",
       "      <td>60</td>\n",
       "    </tr>\n",
       "    <tr>\n",
       "      <th>3</th>\n",
       "      <td>P1001</td>\n",
       "      <td>Poison</td>\n",
       "      <td>hit_points</td>\n",
       "      <td>60</td>\n",
       "    </tr>\n",
       "    <tr>\n",
       "      <th>4</th>\n",
       "      <td>P1002</td>\n",
       "      <td>Grass</td>\n",
       "      <td>hit_points</td>\n",
       "      <td>80</td>\n",
       "    </tr>\n",
       "  </tbody>\n",
       "</table>\n",
       "</div>"
      ],
      "text/plain": [
       "  pokemon_id    types      metric  value\n",
       "0      P1000    Grass  hit_points     45\n",
       "1      P1000   Poison  hit_points     45\n",
       "2      P1001    Grass  hit_points     60\n",
       "3      P1001   Poison  hit_points     60\n",
       "4      P1002    Grass  hit_points     80"
      ]
     },
     "execution_count": 23,
     "metadata": {},
     "output_type": "execute_result"
    }
   ],
   "source": [
    "stat_tbl_cols = [\"pokemon_id\", \"types\", \"metric\", \"value\"]\n",
    "stats_tbl = df_exploded[stat_tbl_cols]\n",
    "stats_tbl.head()"
   ]
  },
  {
   "cell_type": "code",
   "execution_count": 24,
   "metadata": {},
   "outputs": [
    {
     "name": "stdout",
     "output_type": "stream",
     "text": [
      "<class 'pandas.core.frame.DataFrame'>\n",
      "RangeIndex: 11304 entries, 0 to 11303\n",
      "Data columns (total 4 columns):\n",
      " #   Column      Non-Null Count  Dtype \n",
      "---  ------      --------------  ----- \n",
      " 0   pokemon_id  11304 non-null  string\n",
      " 1   types       11304 non-null  object\n",
      " 2   metric      11304 non-null  object\n",
      " 3   value       11304 non-null  int64 \n",
      "dtypes: int64(1), object(2), string(1)\n",
      "memory usage: 353.4+ KB\n"
     ]
    }
   ],
   "source": [
    "stats_tbl.info()"
   ]
  },
  {
   "cell_type": "code",
   "execution_count": 25,
   "metadata": {},
   "outputs": [],
   "source": [
    "stats_tbl = stats_tbl.drop_duplicates()"
   ]
  },
  {
   "cell_type": "markdown",
   "metadata": {},
   "source": [
    "### SQLite Database"
   ]
  },
  {
   "cell_type": "code",
   "execution_count": 26,
   "metadata": {},
   "outputs": [],
   "source": [
    "import sqlite3"
   ]
  },
  {
   "cell_type": "code",
   "execution_count": 27,
   "metadata": {},
   "outputs": [],
   "source": [
    "conn = sqlite3.connect(\"data/pokemon_stats.db\")"
   ]
  },
  {
   "cell_type": "code",
   "execution_count": 28,
   "metadata": {},
   "outputs": [
    {
     "data": {
      "text/plain": [
       "1215"
      ]
     },
     "execution_count": 28,
     "metadata": {},
     "output_type": "execute_result"
    }
   ],
   "source": [
    "pokemons_tbl.to_sql(\"pokemons\", conn, index=False, if_exists=\"replace\")"
   ]
  },
  {
   "cell_type": "code",
   "execution_count": 29,
   "metadata": {},
   "outputs": [
    {
     "data": {
      "text/plain": [
       "11304"
      ]
     },
     "execution_count": 29,
     "metadata": {},
     "output_type": "execute_result"
    }
   ],
   "source": [
    "stats_tbl.to_sql(\"stats\", conn, index=False, if_exists=\"replace\")"
   ]
  },
  {
   "cell_type": "code",
   "execution_count": null,
   "metadata": {},
   "outputs": [],
   "source": []
  }
 ],
 "metadata": {
  "kernelspec": {
   "display_name": ".venv",
   "language": "python",
   "name": "python3"
  },
  "language_info": {
   "codemirror_mode": {
    "name": "ipython",
    "version": 3
   },
   "file_extension": ".py",
   "mimetype": "text/x-python",
   "name": "python",
   "nbconvert_exporter": "python",
   "pygments_lexer": "ipython3",
   "version": "3.10.11"
  }
 },
 "nbformat": 4,
 "nbformat_minor": 2
}
