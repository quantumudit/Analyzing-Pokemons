{
 "cells": [
  {
   "cell_type": "markdown",
   "metadata": {},
   "source": [
    "# Data Scraping Experiments"
   ]
  },
  {
   "cell_type": "markdown",
   "metadata": {},
   "source": [
    "## Experimental Setup"
   ]
  },
  {
   "cell_type": "code",
   "execution_count": 1,
   "metadata": {},
   "outputs": [
    {
     "name": "stdout",
     "output_type": "stream",
     "text": [
      "Current working directory: notebooks\n",
      "Current working directory (Changed): Analyzing-Pokemons\n"
     ]
    }
   ],
   "source": [
    "# Setting up execution path\n",
    "import os\n",
    "\n",
    "print(f\"Current working directory: {os.path.basename(os.getcwd())}\")\n",
    "\n",
    "# Change to root directory\n",
    "os.chdir(\"../\")\n",
    "print(f\"Current working directory (Changed): {os.path.basename(os.getcwd())}\")"
   ]
  },
  {
   "cell_type": "code",
   "execution_count": 2,
   "metadata": {},
   "outputs": [],
   "source": [
    "from rich import print\n",
    "from dataclasses import asdict, fields"
   ]
  },
  {
   "cell_type": "code",
   "execution_count": 3,
   "metadata": {},
   "outputs": [],
   "source": [
    "from src.constants import CONFIGS, PokemonInfo\n",
    "from src.utils.basic_utils import read_yaml"
   ]
  },
  {
   "cell_type": "code",
   "execution_count": 4,
   "metadata": {},
   "outputs": [
    {
     "name": "stdout",
     "output_type": "stream",
     "text": [
      "[2024-02-24 01:57:50 PM]:ProjectLogger INFO:basic_utils 40 - yaml file: conf\\configs.yaml loaded successfully\n"
     ]
    },
    {
     "data": {
      "text/html": [
       "<pre style=\"white-space:pre;overflow-x:auto;line-height:normal;font-family:Menlo,'DejaVu Sans Mono',consolas,'Courier New',monospace\"><span style=\"font-weight: bold\">{</span>\n",
       "    <span style=\"color: #008000; text-decoration-color: #008000\">'root_url'</span>: <span style=\"color: #008000; text-decoration-color: #008000\">'https://pokemondb.net/'</span>,\n",
       "    <span style=\"color: #008000; text-decoration-color: #008000\">'data_url'</span>: <span style=\"color: #008000; text-decoration-color: #008000\">'https://pokemondb.net/pokedex/all'</span>,\n",
       "    <span style=\"color: #008000; text-decoration-color: #008000\">'user_agent'</span>: <span style=\"color: #008000; text-decoration-color: #008000\">'Mozilla/5.0 (Windows NT 10.0; Win64; x64) AppleWebKit/537.36 (KHTML, like Gecko) </span>\n",
       "<span style=\"color: #008000; text-decoration-color: #008000\">Chrome/122.0.0.0 Safari/537.36'</span>,\n",
       "    <span style=\"color: #008000; text-decoration-color: #008000\">'timeout'</span>: <span style=\"color: #008080; text-decoration-color: #008080; font-weight: bold\">100</span>,\n",
       "    <span style=\"color: #008000; text-decoration-color: #008000\">'clear_contents'</span>: <span style=\"color: #00ff00; text-decoration-color: #00ff00; font-style: italic\">True</span>,\n",
       "    <span style=\"color: #008000; text-decoration-color: #008000\">'scraped_data_path'</span>: <span style=\"color: #008000; text-decoration-color: #008000\">'data/external/scraped_pokemons.csv'</span>\n",
       "<span style=\"font-weight: bold\">}</span>\n",
       "</pre>\n"
      ],
      "text/plain": [
       "\u001b[1m{\u001b[0m\n",
       "    \u001b[32m'root_url'\u001b[0m: \u001b[32m'https://pokemondb.net/'\u001b[0m,\n",
       "    \u001b[32m'data_url'\u001b[0m: \u001b[32m'https://pokemondb.net/pokedex/all'\u001b[0m,\n",
       "    \u001b[32m'user_agent'\u001b[0m: \u001b[32m'Mozilla/5.0 \u001b[0m\u001b[32m(\u001b[0m\u001b[32mWindows NT 10.0; Win64; x64\u001b[0m\u001b[32m)\u001b[0m\u001b[32m AppleWebKit/537.36 \u001b[0m\u001b[32m(\u001b[0m\u001b[32mKHTML, like Gecko\u001b[0m\u001b[32m)\u001b[0m\u001b[32m \u001b[0m\n",
       "\u001b[32mChrome/122.0.0.0 Safari/537.36'\u001b[0m,\n",
       "    \u001b[32m'timeout'\u001b[0m: \u001b[1;36m100\u001b[0m,\n",
       "    \u001b[32m'clear_contents'\u001b[0m: \u001b[3;92mTrue\u001b[0m,\n",
       "    \u001b[32m'scraped_data_path'\u001b[0m: \u001b[32m'data/external/scraped_pokemons.csv'\u001b[0m\n",
       "\u001b[1m}\u001b[0m\n"
      ]
     },
     "metadata": {},
     "output_type": "display_data"
    }
   ],
   "source": [
    "configs = read_yaml(CONFIGS).data_scraper\n",
    "print(configs.to_dict())"
   ]
  },
  {
   "cell_type": "code",
   "execution_count": 5,
   "metadata": {},
   "outputs": [
    {
     "data": {
      "text/html": [
       "<pre style=\"white-space:pre;overflow-x:auto;line-height:normal;font-family:Menlo,'DejaVu Sans Mono',consolas,'Courier New',monospace\">The info required for the pokemon are: \n",
       "<span style=\"font-weight: bold\">[</span><span style=\"color: #008000; text-decoration-color: #008000\">'rank'</span>, <span style=\"color: #008000; text-decoration-color: #008000\">'name'</span>, <span style=\"color: #008000; text-decoration-color: #008000\">'types'</span>, <span style=\"color: #008000; text-decoration-color: #008000\">'total_power'</span>, <span style=\"color: #008000; text-decoration-color: #008000\">'hit_points'</span>, <span style=\"color: #008000; text-decoration-color: #008000\">'attack'</span>, <span style=\"color: #008000; text-decoration-color: #008000\">'defense'</span>, <span style=\"color: #008000; text-decoration-color: #008000\">'special_attack'</span>, <span style=\"color: #008000; text-decoration-color: #008000\">'special_defense'</span>, \n",
       "<span style=\"color: #008000; text-decoration-color: #008000\">'speed'</span>, <span style=\"color: #008000; text-decoration-color: #008000\">'icon_url'</span>, <span style=\"color: #008000; text-decoration-color: #008000\">'details_url'</span>, <span style=\"color: #008000; text-decoration-color: #008000\">'scrape_ts'</span><span style=\"font-weight: bold\">]</span>\n",
       "</pre>\n"
      ],
      "text/plain": [
       "The info required for the pokemon are: \n",
       "\u001b[1m[\u001b[0m\u001b[32m'rank'\u001b[0m, \u001b[32m'name'\u001b[0m, \u001b[32m'types'\u001b[0m, \u001b[32m'total_power'\u001b[0m, \u001b[32m'hit_points'\u001b[0m, \u001b[32m'attack'\u001b[0m, \u001b[32m'defense'\u001b[0m, \u001b[32m'special_attack'\u001b[0m, \u001b[32m'special_defense'\u001b[0m, \n",
       "\u001b[32m'speed'\u001b[0m, \u001b[32m'icon_url'\u001b[0m, \u001b[32m'details_url'\u001b[0m, \u001b[32m'scrape_ts'\u001b[0m\u001b[1m]\u001b[0m\n"
      ]
     },
     "metadata": {},
     "output_type": "display_data"
    }
   ],
   "source": [
    "print(\n",
    "    f\"The info required for the pokemon are: \\n{[field.name for field in fields(PokemonInfo)]}\"\n",
    ")"
   ]
  },
  {
   "cell_type": "code",
   "execution_count": 6,
   "metadata": {},
   "outputs": [],
   "source": [
    "root_url = configs.root_url\n",
    "data_url = configs.data_url\n",
    "user_agent = configs.user_agent\n",
    "timeout = configs.timeout"
   ]
  },
  {
   "cell_type": "markdown",
   "metadata": {},
   "source": [
    "## Content Extraction"
   ]
  },
  {
   "cell_type": "code",
   "execution_count": 7,
   "metadata": {},
   "outputs": [],
   "source": [
    "import requests\n",
    "import bs4\n",
    "\n",
    "\n",
    "from bs4 import BeautifulSoup\n",
    "\n",
    "\n",
    "from urllib.parse import urljoin\n",
    "\n",
    "\n",
    "from datetime import datetime"
   ]
  },
  {
   "cell_type": "code",
   "execution_count": 8,
   "metadata": {},
   "outputs": [],
   "source": [
    "headers = {\"user-agent\": user_agent, \"accept-language\": \"en-US\"}"
   ]
  },
  {
   "cell_type": "code",
   "execution_count": 9,
   "metadata": {},
   "outputs": [
    {
     "data": {
      "text/html": [
       "<pre style=\"white-space:pre;overflow-x:auto;line-height:normal;font-family:Menlo,'DejaVu Sans Mono',consolas,'Courier New',monospace\">The status code returned: <span style=\"color: #008080; text-decoration-color: #008080; font-weight: bold\">200</span>\n",
       "</pre>\n"
      ],
      "text/plain": [
       "The status code returned: \u001b[1;36m200\u001b[0m\n"
      ]
     },
     "metadata": {},
     "output_type": "display_data"
    }
   ],
   "source": [
    "response = requests.get(data_url, headers=headers, timeout=timeout)\n",
    "print(f\"The status code returned: {response.status_code}\")"
   ]
  },
  {
   "cell_type": "code",
   "execution_count": 10,
   "metadata": {},
   "outputs": [
    {
     "data": {
      "text/html": [
       "<pre style=\"white-space:pre;overflow-x:auto;line-height:normal;font-family:Menlo,'DejaVu Sans Mono',consolas,'Courier New',monospace\">The datatype of the beautiful soup object is: <span style=\"font-weight: bold\">&lt;</span><span style=\"color: #ff00ff; text-decoration-color: #ff00ff; font-weight: bold\">class</span><span style=\"color: #000000; text-decoration-color: #000000\"> </span><span style=\"color: #008000; text-decoration-color: #008000\">'bs4.BeautifulSoup'</span><span style=\"font-weight: bold\">&gt;</span>\n",
       "</pre>\n"
      ],
      "text/plain": [
       "The datatype of the beautiful soup object is: \u001b[1m<\u001b[0m\u001b[1;95mclass\u001b[0m\u001b[39m \u001b[0m\u001b[32m'bs4.BeautifulSoup'\u001b[0m\u001b[1m>\u001b[0m\n"
      ]
     },
     "metadata": {},
     "output_type": "display_data"
    }
   ],
   "source": [
    "soup = BeautifulSoup(response.content, \"html.parser\")\n",
    "print(f\"The datatype of the beautiful soup object is: {type(soup)}\")"
   ]
  },
  {
   "cell_type": "code",
   "execution_count": 11,
   "metadata": {},
   "outputs": [],
   "source": [
    "content = soup.find(\"table\", attrs={\"id\": \"pokedex\"})"
   ]
  },
  {
   "cell_type": "code",
   "execution_count": 12,
   "metadata": {},
   "outputs": [
    {
     "data": {
      "text/html": [
       "<pre style=\"white-space:pre;overflow-x:auto;line-height:normal;font-family:Menlo,'DejaVu Sans Mono',consolas,'Courier New',monospace\">#\n",
       "</pre>\n"
      ],
      "text/plain": [
       "#\n"
      ]
     },
     "metadata": {},
     "output_type": "display_data"
    },
    {
     "data": {
      "text/html": [
       "<pre style=\"white-space:pre;overflow-x:auto;line-height:normal;font-family:Menlo,'DejaVu Sans Mono',consolas,'Courier New',monospace\">Name\n",
       "</pre>\n"
      ],
      "text/plain": [
       "Name\n"
      ]
     },
     "metadata": {},
     "output_type": "display_data"
    },
    {
     "data": {
      "text/html": [
       "<pre style=\"white-space:pre;overflow-x:auto;line-height:normal;font-family:Menlo,'DejaVu Sans Mono',consolas,'Courier New',monospace\">Type\n",
       "</pre>\n"
      ],
      "text/plain": [
       "Type\n"
      ]
     },
     "metadata": {},
     "output_type": "display_data"
    },
    {
     "data": {
      "text/html": [
       "<pre style=\"white-space:pre;overflow-x:auto;line-height:normal;font-family:Menlo,'DejaVu Sans Mono',consolas,'Courier New',monospace\">Total\n",
       "</pre>\n"
      ],
      "text/plain": [
       "Total\n"
      ]
     },
     "metadata": {},
     "output_type": "display_data"
    },
    {
     "data": {
      "text/html": [
       "<pre style=\"white-space:pre;overflow-x:auto;line-height:normal;font-family:Menlo,'DejaVu Sans Mono',consolas,'Courier New',monospace\">HP\n",
       "</pre>\n"
      ],
      "text/plain": [
       "HP\n"
      ]
     },
     "metadata": {},
     "output_type": "display_data"
    },
    {
     "data": {
      "text/html": [
       "<pre style=\"white-space:pre;overflow-x:auto;line-height:normal;font-family:Menlo,'DejaVu Sans Mono',consolas,'Courier New',monospace\">Attack\n",
       "</pre>\n"
      ],
      "text/plain": [
       "Attack\n"
      ]
     },
     "metadata": {},
     "output_type": "display_data"
    },
    {
     "data": {
      "text/html": [
       "<pre style=\"white-space:pre;overflow-x:auto;line-height:normal;font-family:Menlo,'DejaVu Sans Mono',consolas,'Courier New',monospace\">Defense\n",
       "</pre>\n"
      ],
      "text/plain": [
       "Defense\n"
      ]
     },
     "metadata": {},
     "output_type": "display_data"
    },
    {
     "data": {
      "text/html": [
       "<pre style=\"white-space:pre;overflow-x:auto;line-height:normal;font-family:Menlo,'DejaVu Sans Mono',consolas,'Courier New',monospace\">Sp. Atk\n",
       "</pre>\n"
      ],
      "text/plain": [
       "Sp. Atk\n"
      ]
     },
     "metadata": {},
     "output_type": "display_data"
    },
    {
     "data": {
      "text/html": [
       "<pre style=\"white-space:pre;overflow-x:auto;line-height:normal;font-family:Menlo,'DejaVu Sans Mono',consolas,'Courier New',monospace\">Sp. Def\n",
       "</pre>\n"
      ],
      "text/plain": [
       "Sp. Def\n"
      ]
     },
     "metadata": {},
     "output_type": "display_data"
    },
    {
     "data": {
      "text/html": [
       "<pre style=\"white-space:pre;overflow-x:auto;line-height:normal;font-family:Menlo,'DejaVu Sans Mono',consolas,'Courier New',monospace\">Speed\n",
       "</pre>\n"
      ],
      "text/plain": [
       "Speed\n"
      ]
     },
     "metadata": {},
     "output_type": "display_data"
    }
   ],
   "source": [
    "# Table headers\n",
    "table_headers = content.find(\"thead\").find_all(\"th\")\n",
    "for name in table_headers:\n",
    "    print(name.text)"
   ]
  },
  {
   "cell_type": "code",
   "execution_count": 13,
   "metadata": {},
   "outputs": [
    {
     "data": {
      "text/html": [
       "<pre style=\"white-space:pre;overflow-x:auto;line-height:normal;font-family:Menlo,'DejaVu Sans Mono',consolas,'Courier New',monospace\">The content type is: <span style=\"font-weight: bold\">&lt;</span><span style=\"color: #ff00ff; text-decoration-color: #ff00ff; font-weight: bold\">class</span><span style=\"color: #000000; text-decoration-color: #000000\"> </span><span style=\"color: #008000; text-decoration-color: #008000\">'bs4.element.ResultSet'</span><span style=\"font-weight: bold\">&gt;</span>\n",
       "</pre>\n"
      ],
      "text/plain": [
       "The content type is: \u001b[1m<\u001b[0m\u001b[1;95mclass\u001b[0m\u001b[39m \u001b[0m\u001b[32m'bs4.element.ResultSet'\u001b[0m\u001b[1m>\u001b[0m\n"
      ]
     },
     "metadata": {},
     "output_type": "display_data"
    },
    {
     "data": {
      "text/html": [
       "<pre style=\"white-space:pre;overflow-x:auto;line-height:normal;font-family:Menlo,'DejaVu Sans Mono',consolas,'Courier New',monospace\">Total entries found is: <span style=\"color: #008080; text-decoration-color: #008080; font-weight: bold\">1215</span>\n",
       "</pre>\n"
      ],
      "text/plain": [
       "Total entries found is: \u001b[1;36m1215\u001b[0m\n"
      ]
     },
     "metadata": {},
     "output_type": "display_data"
    }
   ],
   "source": [
    "pokemons = content.find(\"tbody\").find_all(\"tr\")\n",
    "print(f\"The content type is: {type(pokemons)}\")\n",
    "print(f\"Total entries found is: {len(pokemons)}\")"
   ]
  },
  {
   "cell_type": "markdown",
   "metadata": {},
   "source": [
    "## Pokemon Stat Extraction"
   ]
  },
  {
   "cell_type": "code",
   "execution_count": 14,
   "metadata": {},
   "outputs": [
    {
     "data": {
      "text/html": [
       "<pre style=\"white-space:pre;overflow-x:auto;line-height:normal;font-family:Menlo,'DejaVu Sans Mono',consolas,'Courier New',monospace\"><span style=\"font-weight: bold\">&lt;</span><span style=\"color: #ff00ff; text-decoration-color: #ff00ff; font-weight: bold\">tr</span><span style=\"color: #000000; text-decoration-color: #000000\">&gt;</span>\n",
       "<span style=\"color: #000000; text-decoration-color: #000000\">&lt;td </span><span style=\"color: #808000; text-decoration-color: #808000\">class</span><span style=\"color: #000000; text-decoration-color: #000000\">=</span><span style=\"color: #008000; text-decoration-color: #008000\">\"cell-num cell-fixed\"</span><span style=\"color: #000000; text-decoration-color: #000000\"> data-sort-</span><span style=\"color: #808000; text-decoration-color: #808000\">value</span><span style=\"color: #000000; text-decoration-color: #000000\">=</span><span style=\"color: #008000; text-decoration-color: #008000\">\"1\"</span><span style=\"color: #000000; text-decoration-color: #000000\">&gt;&lt;picture </span><span style=\"color: #808000; text-decoration-color: #808000\">class</span><span style=\"color: #000000; text-decoration-color: #000000\">=</span><span style=\"color: #008000; text-decoration-color: #008000\">\"infocard-cell-img\"</span><span style=\"color: #000000; text-decoration-color: #000000\">&gt;</span>\n",
       "<span style=\"color: #000000; text-decoration-color: #000000\">&lt;source </span><span style=\"color: #808000; text-decoration-color: #808000\">height</span><span style=\"color: #000000; text-decoration-color: #000000\">=</span><span style=\"color: #008000; text-decoration-color: #008000\">\"56\"</span><span style=\"color: #000000; text-decoration-color: #000000\"> </span><span style=\"color: #808000; text-decoration-color: #808000\">srcset</span><span style=\"color: #000000; text-decoration-color: #000000\">=</span><span style=\"color: #008000; text-decoration-color: #008000\">\"https://img.pokemondb.net/sprites/scarlet-violet/icon/avif/bulbasaur.avif\"</span><span style=\"color: #000000; text-decoration-color: #000000\"> </span>\n",
       "<span style=\"color: #808000; text-decoration-color: #808000\">type</span><span style=\"color: #000000; text-decoration-color: #000000\">=</span><span style=\"color: #008000; text-decoration-color: #008000\">\"image/avif\"</span><span style=\"color: #000000; text-decoration-color: #000000\"> </span><span style=\"color: #808000; text-decoration-color: #808000\">width</span><span style=\"color: #000000; text-decoration-color: #000000\">=</span><span style=\"color: #008000; text-decoration-color: #008000\">\"60\"</span><span style=\"color: #800080; text-decoration-color: #800080\">/</span><span style=\"color: #000000; text-decoration-color: #000000\">&gt;</span>\n",
       "<span style=\"color: #000000; text-decoration-color: #000000\">&lt;img </span><span style=\"color: #808000; text-decoration-color: #808000\">alt</span><span style=\"color: #000000; text-decoration-color: #000000\">=</span><span style=\"color: #008000; text-decoration-color: #008000\">\"Bulbasaur\"</span><span style=\"color: #000000; text-decoration-color: #000000\"> </span><span style=\"color: #808000; text-decoration-color: #808000\">class</span><span style=\"color: #000000; text-decoration-color: #000000\">=</span><span style=\"color: #008000; text-decoration-color: #008000\">\"img-fixed icon-pkmn\"</span><span style=\"color: #000000; text-decoration-color: #000000\"> </span><span style=\"color: #808000; text-decoration-color: #808000\">height</span><span style=\"color: #000000; text-decoration-color: #000000\">=</span><span style=\"color: #008000; text-decoration-color: #008000\">\"56\"</span><span style=\"color: #000000; text-decoration-color: #000000\"> </span><span style=\"color: #808000; text-decoration-color: #808000\">loading</span><span style=\"color: #000000; text-decoration-color: #000000\">=</span><span style=\"color: #008000; text-decoration-color: #008000\">\"lazy\"</span><span style=\"color: #000000; text-decoration-color: #000000\"> </span>\n",
       "<span style=\"color: #808000; text-decoration-color: #808000\">src</span><span style=\"color: #000000; text-decoration-color: #000000\">=</span><span style=\"color: #008000; text-decoration-color: #008000\">\"https://img.pokemondb.net/sprites/scarlet-violet/icon/bulbasaur.png\"</span><span style=\"color: #000000; text-decoration-color: #000000\"> </span><span style=\"color: #808000; text-decoration-color: #808000\">width</span><span style=\"color: #000000; text-decoration-color: #000000\">=</span><span style=\"color: #008000; text-decoration-color: #008000\">\"60\"</span><span style=\"color: #800080; text-decoration-color: #800080\">/</span><span style=\"color: #000000; text-decoration-color: #000000\">&gt;</span>\n",
       "<span style=\"color: #000000; text-decoration-color: #000000\">&lt;</span><span style=\"color: #800080; text-decoration-color: #800080\">/</span><span style=\"color: #ff00ff; text-decoration-color: #ff00ff\">picture</span><span style=\"color: #000000; text-decoration-color: #000000\">&gt;&lt;span </span><span style=\"color: #808000; text-decoration-color: #808000\">class</span><span style=\"color: #000000; text-decoration-color: #000000\">=</span><span style=\"color: #008000; text-decoration-color: #008000\">\"infocard-cell-data\"</span><span style=\"color: #000000; text-decoration-color: #000000\">&gt;</span><span style=\"color: #008080; text-decoration-color: #008080; font-weight: bold\">0001</span><span style=\"color: #000000; text-decoration-color: #000000\">&lt;</span><span style=\"color: #800080; text-decoration-color: #800080\">/</span><span style=\"color: #ff00ff; text-decoration-color: #ff00ff\">span</span><span style=\"color: #000000; text-decoration-color: #000000\">&gt;&lt;</span><span style=\"color: #800080; text-decoration-color: #800080\">/</span><span style=\"color: #ff00ff; text-decoration-color: #ff00ff\">td</span><span style=\"color: #000000; text-decoration-color: #000000\">&gt; &lt;td </span><span style=\"color: #808000; text-decoration-color: #808000\">class</span><span style=\"color: #000000; text-decoration-color: #000000\">=</span><span style=\"color: #008000; text-decoration-color: #008000\">\"cell-name\"</span><span style=\"color: #000000; text-decoration-color: #000000\">&gt;&lt;a </span><span style=\"color: #808000; text-decoration-color: #808000\">class</span><span style=\"color: #000000; text-decoration-color: #000000\">=</span><span style=\"color: #008000; text-decoration-color: #008000\">\"ent-name\"</span><span style=\"color: #000000; text-decoration-color: #000000\"> </span>\n",
       "<span style=\"color: #808000; text-decoration-color: #808000\">href</span><span style=\"color: #000000; text-decoration-color: #000000\">=</span><span style=\"color: #008000; text-decoration-color: #008000\">\"/pokedex/bulbasaur\"</span><span style=\"color: #000000; text-decoration-color: #000000\"> </span><span style=\"color: #808000; text-decoration-color: #808000\">title</span><span style=\"color: #000000; text-decoration-color: #000000\">=</span><span style=\"color: #008000; text-decoration-color: #008000\">\"View Pokedex for #0001 Bulbasaur\"</span><span style=\"color: #000000; text-decoration-color: #000000\">&gt;Bulbasaur&lt;</span><span style=\"color: #800080; text-decoration-color: #800080\">/</span><span style=\"color: #ff00ff; text-decoration-color: #ff00ff\">a</span><span style=\"color: #000000; text-decoration-color: #000000\">&gt;&lt;</span><span style=\"color: #800080; text-decoration-color: #800080\">/</span><span style=\"color: #ff00ff; text-decoration-color: #ff00ff\">td</span><span style=\"color: #000000; text-decoration-color: #000000\">&gt;&lt;td </span><span style=\"color: #808000; text-decoration-color: #808000\">class</span><span style=\"color: #000000; text-decoration-color: #000000\">=</span><span style=\"color: #008000; text-decoration-color: #008000\">\"cell-icon\"</span><span style=\"color: #000000; text-decoration-color: #000000\">&gt;&lt;a </span>\n",
       "<span style=\"color: #808000; text-decoration-color: #808000\">class</span><span style=\"color: #000000; text-decoration-color: #000000\">=</span><span style=\"color: #008000; text-decoration-color: #008000\">\"type-icon type-grass\"</span><span style=\"color: #000000; text-decoration-color: #000000\"> </span><span style=\"color: #808000; text-decoration-color: #808000\">href</span><span style=\"color: #000000; text-decoration-color: #000000\">=</span><span style=\"color: #008000; text-decoration-color: #008000\">\"/type/grass\"</span><span style=\"color: #000000; text-decoration-color: #000000\">&gt;Grass&lt;</span><span style=\"color: #800080; text-decoration-color: #800080\">/</span><span style=\"color: #ff00ff; text-decoration-color: #ff00ff\">a</span><span style=\"color: #000000; text-decoration-color: #000000\">&gt;&lt;br/&gt; &lt;a </span><span style=\"color: #808000; text-decoration-color: #808000\">class</span><span style=\"color: #000000; text-decoration-color: #000000\">=</span><span style=\"color: #008000; text-decoration-color: #008000\">\"type-icon type-poison\"</span><span style=\"color: #000000; text-decoration-color: #000000\"> </span>\n",
       "<span style=\"color: #808000; text-decoration-color: #808000\">href</span><span style=\"color: #000000; text-decoration-color: #000000\">=</span><span style=\"color: #008000; text-decoration-color: #008000\">\"/type/poison\"</span><span style=\"color: #000000; text-decoration-color: #000000\">&gt;Poison&lt;</span><span style=\"color: #800080; text-decoration-color: #800080\">/</span><span style=\"color: #ff00ff; text-decoration-color: #ff00ff\">a</span><span style=\"color: #000000; text-decoration-color: #000000\">&gt;&lt;</span><span style=\"color: #800080; text-decoration-color: #800080\">/</span><span style=\"color: #ff00ff; text-decoration-color: #ff00ff\">td</span><span style=\"color: #000000; text-decoration-color: #000000\">&gt;</span>\n",
       "<span style=\"color: #000000; text-decoration-color: #000000\">&lt;td </span><span style=\"color: #808000; text-decoration-color: #808000\">class</span><span style=\"color: #000000; text-decoration-color: #000000\">=</span><span style=\"color: #008000; text-decoration-color: #008000\">\"cell-num cell-total\"</span><span style=\"color: #000000; text-decoration-color: #000000\">&gt;</span><span style=\"color: #008080; text-decoration-color: #008080; font-weight: bold\">318</span><span style=\"color: #000000; text-decoration-color: #000000\">&lt;</span><span style=\"color: #800080; text-decoration-color: #800080\">/</span><span style=\"color: #ff00ff; text-decoration-color: #ff00ff\">td</span><span style=\"color: #000000; text-decoration-color: #000000\">&gt;</span>\n",
       "<span style=\"color: #000000; text-decoration-color: #000000\">&lt;td </span><span style=\"color: #808000; text-decoration-color: #808000\">class</span><span style=\"color: #000000; text-decoration-color: #000000\">=</span><span style=\"color: #008000; text-decoration-color: #008000\">\"cell-num\"</span><span style=\"color: #000000; text-decoration-color: #000000\">&gt;</span><span style=\"color: #008080; text-decoration-color: #008080; font-weight: bold\">45</span><span style=\"color: #000000; text-decoration-color: #000000\">&lt;</span><span style=\"color: #800080; text-decoration-color: #800080\">/</span><span style=\"color: #ff00ff; text-decoration-color: #ff00ff\">td</span><span style=\"color: #000000; text-decoration-color: #000000\">&gt;</span>\n",
       "<span style=\"color: #000000; text-decoration-color: #000000\">&lt;td </span><span style=\"color: #808000; text-decoration-color: #808000\">class</span><span style=\"color: #000000; text-decoration-color: #000000\">=</span><span style=\"color: #008000; text-decoration-color: #008000\">\"cell-num\"</span><span style=\"color: #000000; text-decoration-color: #000000\">&gt;</span><span style=\"color: #008080; text-decoration-color: #008080; font-weight: bold\">49</span><span style=\"color: #000000; text-decoration-color: #000000\">&lt;</span><span style=\"color: #800080; text-decoration-color: #800080\">/</span><span style=\"color: #ff00ff; text-decoration-color: #ff00ff\">td</span><span style=\"color: #000000; text-decoration-color: #000000\">&gt;</span>\n",
       "<span style=\"color: #000000; text-decoration-color: #000000\">&lt;td </span><span style=\"color: #808000; text-decoration-color: #808000\">class</span><span style=\"color: #000000; text-decoration-color: #000000\">=</span><span style=\"color: #008000; text-decoration-color: #008000\">\"cell-num\"</span><span style=\"color: #000000; text-decoration-color: #000000\">&gt;</span><span style=\"color: #008080; text-decoration-color: #008080; font-weight: bold\">49</span><span style=\"color: #000000; text-decoration-color: #000000\">&lt;</span><span style=\"color: #800080; text-decoration-color: #800080\">/</span><span style=\"color: #ff00ff; text-decoration-color: #ff00ff\">td</span><span style=\"color: #000000; text-decoration-color: #000000\">&gt;</span>\n",
       "<span style=\"color: #000000; text-decoration-color: #000000\">&lt;td </span><span style=\"color: #808000; text-decoration-color: #808000\">class</span><span style=\"color: #000000; text-decoration-color: #000000\">=</span><span style=\"color: #008000; text-decoration-color: #008000\">\"cell-num\"</span><span style=\"color: #000000; text-decoration-color: #000000\">&gt;</span><span style=\"color: #008080; text-decoration-color: #008080; font-weight: bold\">65</span><span style=\"color: #000000; text-decoration-color: #000000\">&lt;</span><span style=\"color: #800080; text-decoration-color: #800080\">/</span><span style=\"color: #ff00ff; text-decoration-color: #ff00ff\">td</span><span style=\"color: #000000; text-decoration-color: #000000\">&gt;</span>\n",
       "<span style=\"color: #000000; text-decoration-color: #000000\">&lt;td </span><span style=\"color: #808000; text-decoration-color: #808000\">class</span><span style=\"color: #000000; text-decoration-color: #000000\">=</span><span style=\"color: #008000; text-decoration-color: #008000\">\"cell-num\"</span><span style=\"color: #000000; text-decoration-color: #000000\">&gt;</span><span style=\"color: #008080; text-decoration-color: #008080; font-weight: bold\">65</span><span style=\"color: #000000; text-decoration-color: #000000\">&lt;</span><span style=\"color: #800080; text-decoration-color: #800080\">/</span><span style=\"color: #ff00ff; text-decoration-color: #ff00ff\">td</span><span style=\"color: #000000; text-decoration-color: #000000\">&gt;</span>\n",
       "<span style=\"color: #000000; text-decoration-color: #000000\">&lt;td </span><span style=\"color: #808000; text-decoration-color: #808000\">class</span><span style=\"color: #000000; text-decoration-color: #000000\">=</span><span style=\"color: #008000; text-decoration-color: #008000\">\"cell-num\"</span><span style=\"color: #000000; text-decoration-color: #000000\">&gt;</span><span style=\"color: #008080; text-decoration-color: #008080; font-weight: bold\">45</span><span style=\"color: #000000; text-decoration-color: #000000\">&lt;</span><span style=\"color: #800080; text-decoration-color: #800080\">/</span><span style=\"color: #ff00ff; text-decoration-color: #ff00ff\">td</span><span style=\"color: #000000; text-decoration-color: #000000\">&gt;</span>\n",
       "<span style=\"color: #000000; text-decoration-color: #000000\">&lt;</span><span style=\"color: #800080; text-decoration-color: #800080\">/</span><span style=\"color: #ff00ff; text-decoration-color: #ff00ff\">tr</span><span style=\"font-weight: bold\">&gt;</span>\n",
       "</pre>\n"
      ],
      "text/plain": [
       "\u001b[1m<\u001b[0m\u001b[1;95mtr\u001b[0m\u001b[39m>\u001b[0m\n",
       "\u001b[39m<td \u001b[0m\u001b[33mclass\u001b[0m\u001b[39m=\u001b[0m\u001b[32m\"cell\u001b[0m\u001b[32m-num cell-fixed\"\u001b[0m\u001b[39m data-sort-\u001b[0m\u001b[33mvalue\u001b[0m\u001b[39m=\u001b[0m\u001b[32m\"1\"\u001b[0m\u001b[39m><picture \u001b[0m\u001b[33mclass\u001b[0m\u001b[39m=\u001b[0m\u001b[32m\"infocard\u001b[0m\u001b[32m-cell-img\"\u001b[0m\u001b[39m>\u001b[0m\n",
       "\u001b[39m<source \u001b[0m\u001b[33mheight\u001b[0m\u001b[39m=\u001b[0m\u001b[32m\"56\"\u001b[0m\u001b[39m \u001b[0m\u001b[33msrcset\u001b[0m\u001b[39m=\u001b[0m\u001b[32m\"https\u001b[0m\u001b[32m://img.pokemondb.net/sprites/scarlet-violet/icon/avif/bulbasaur.avif\"\u001b[0m\u001b[39m \u001b[0m\n",
       "\u001b[33mtype\u001b[0m\u001b[39m=\u001b[0m\u001b[32m\"image\u001b[0m\u001b[32m/avif\"\u001b[0m\u001b[39m \u001b[0m\u001b[33mwidth\u001b[0m\u001b[39m=\u001b[0m\u001b[32m\"60\"\u001b[0m\u001b[35m/\u001b[0m\u001b[39m>\u001b[0m\n",
       "\u001b[39m<img \u001b[0m\u001b[33malt\u001b[0m\u001b[39m=\u001b[0m\u001b[32m\"Bulbasaur\"\u001b[0m\u001b[39m \u001b[0m\u001b[33mclass\u001b[0m\u001b[39m=\u001b[0m\u001b[32m\"img\u001b[0m\u001b[32m-fixed icon-pkmn\"\u001b[0m\u001b[39m \u001b[0m\u001b[33mheight\u001b[0m\u001b[39m=\u001b[0m\u001b[32m\"56\"\u001b[0m\u001b[39m \u001b[0m\u001b[33mloading\u001b[0m\u001b[39m=\u001b[0m\u001b[32m\"lazy\"\u001b[0m\u001b[39m \u001b[0m\n",
       "\u001b[33msrc\u001b[0m\u001b[39m=\u001b[0m\u001b[32m\"https\u001b[0m\u001b[32m://img.pokemondb.net/sprites/scarlet-violet/icon/bulbasaur.png\"\u001b[0m\u001b[39m \u001b[0m\u001b[33mwidth\u001b[0m\u001b[39m=\u001b[0m\u001b[32m\"60\"\u001b[0m\u001b[35m/\u001b[0m\u001b[39m>\u001b[0m\n",
       "\u001b[39m<\u001b[0m\u001b[35m/\u001b[0m\u001b[95mpicture\u001b[0m\u001b[39m><span \u001b[0m\u001b[33mclass\u001b[0m\u001b[39m=\u001b[0m\u001b[32m\"infocard\u001b[0m\u001b[32m-cell-data\"\u001b[0m\u001b[39m>\u001b[0m\u001b[1;36m0001\u001b[0m\u001b[39m<\u001b[0m\u001b[35m/\u001b[0m\u001b[95mspan\u001b[0m\u001b[39m><\u001b[0m\u001b[35m/\u001b[0m\u001b[95mtd\u001b[0m\u001b[39m> <td \u001b[0m\u001b[33mclass\u001b[0m\u001b[39m=\u001b[0m\u001b[32m\"cell\u001b[0m\u001b[32m-name\"\u001b[0m\u001b[39m><a \u001b[0m\u001b[33mclass\u001b[0m\u001b[39m=\u001b[0m\u001b[32m\"ent\u001b[0m\u001b[32m-name\"\u001b[0m\u001b[39m \u001b[0m\n",
       "\u001b[33mhref\u001b[0m\u001b[39m=\u001b[0m\u001b[32m\"/pokedex/bulbasaur\"\u001b[0m\u001b[39m \u001b[0m\u001b[33mtitle\u001b[0m\u001b[39m=\u001b[0m\u001b[32m\"View\u001b[0m\u001b[32m Pokedex for #0001 Bulbasaur\"\u001b[0m\u001b[39m>Bulbasaur<\u001b[0m\u001b[35m/\u001b[0m\u001b[95ma\u001b[0m\u001b[39m><\u001b[0m\u001b[35m/\u001b[0m\u001b[95mtd\u001b[0m\u001b[39m><td \u001b[0m\u001b[33mclass\u001b[0m\u001b[39m=\u001b[0m\u001b[32m\"cell\u001b[0m\u001b[32m-icon\"\u001b[0m\u001b[39m><a \u001b[0m\n",
       "\u001b[33mclass\u001b[0m\u001b[39m=\u001b[0m\u001b[32m\"type\u001b[0m\u001b[32m-icon type-grass\"\u001b[0m\u001b[39m \u001b[0m\u001b[33mhref\u001b[0m\u001b[39m=\u001b[0m\u001b[32m\"/type/grass\"\u001b[0m\u001b[39m>Grass<\u001b[0m\u001b[35m/\u001b[0m\u001b[95ma\u001b[0m\u001b[39m><br/> <a \u001b[0m\u001b[33mclass\u001b[0m\u001b[39m=\u001b[0m\u001b[32m\"type\u001b[0m\u001b[32m-icon type-poison\"\u001b[0m\u001b[39m \u001b[0m\n",
       "\u001b[33mhref\u001b[0m\u001b[39m=\u001b[0m\u001b[32m\"/type/poison\"\u001b[0m\u001b[39m>Poison<\u001b[0m\u001b[35m/\u001b[0m\u001b[95ma\u001b[0m\u001b[39m><\u001b[0m\u001b[35m/\u001b[0m\u001b[95mtd\u001b[0m\u001b[39m>\u001b[0m\n",
       "\u001b[39m<td \u001b[0m\u001b[33mclass\u001b[0m\u001b[39m=\u001b[0m\u001b[32m\"cell\u001b[0m\u001b[32m-num cell-total\"\u001b[0m\u001b[39m>\u001b[0m\u001b[1;36m318\u001b[0m\u001b[39m<\u001b[0m\u001b[35m/\u001b[0m\u001b[95mtd\u001b[0m\u001b[39m>\u001b[0m\n",
       "\u001b[39m<td \u001b[0m\u001b[33mclass\u001b[0m\u001b[39m=\u001b[0m\u001b[32m\"cell\u001b[0m\u001b[32m-num\"\u001b[0m\u001b[39m>\u001b[0m\u001b[1;36m45\u001b[0m\u001b[39m<\u001b[0m\u001b[35m/\u001b[0m\u001b[95mtd\u001b[0m\u001b[39m>\u001b[0m\n",
       "\u001b[39m<td \u001b[0m\u001b[33mclass\u001b[0m\u001b[39m=\u001b[0m\u001b[32m\"cell\u001b[0m\u001b[32m-num\"\u001b[0m\u001b[39m>\u001b[0m\u001b[1;36m49\u001b[0m\u001b[39m<\u001b[0m\u001b[35m/\u001b[0m\u001b[95mtd\u001b[0m\u001b[39m>\u001b[0m\n",
       "\u001b[39m<td \u001b[0m\u001b[33mclass\u001b[0m\u001b[39m=\u001b[0m\u001b[32m\"cell\u001b[0m\u001b[32m-num\"\u001b[0m\u001b[39m>\u001b[0m\u001b[1;36m49\u001b[0m\u001b[39m<\u001b[0m\u001b[35m/\u001b[0m\u001b[95mtd\u001b[0m\u001b[39m>\u001b[0m\n",
       "\u001b[39m<td \u001b[0m\u001b[33mclass\u001b[0m\u001b[39m=\u001b[0m\u001b[32m\"cell\u001b[0m\u001b[32m-num\"\u001b[0m\u001b[39m>\u001b[0m\u001b[1;36m65\u001b[0m\u001b[39m<\u001b[0m\u001b[35m/\u001b[0m\u001b[95mtd\u001b[0m\u001b[39m>\u001b[0m\n",
       "\u001b[39m<td \u001b[0m\u001b[33mclass\u001b[0m\u001b[39m=\u001b[0m\u001b[32m\"cell\u001b[0m\u001b[32m-num\"\u001b[0m\u001b[39m>\u001b[0m\u001b[1;36m65\u001b[0m\u001b[39m<\u001b[0m\u001b[35m/\u001b[0m\u001b[95mtd\u001b[0m\u001b[39m>\u001b[0m\n",
       "\u001b[39m<td \u001b[0m\u001b[33mclass\u001b[0m\u001b[39m=\u001b[0m\u001b[32m\"cell\u001b[0m\u001b[32m-num\"\u001b[0m\u001b[39m>\u001b[0m\u001b[1;36m45\u001b[0m\u001b[39m<\u001b[0m\u001b[35m/\u001b[0m\u001b[95mtd\u001b[0m\u001b[39m>\u001b[0m\n",
       "\u001b[39m<\u001b[0m\u001b[35m/\u001b[0m\u001b[95mtr\u001b[0m\u001b[1m>\u001b[0m\n"
      ]
     },
     "metadata": {},
     "output_type": "display_data"
    }
   ],
   "source": [
    "# Single normal pokemon stat\n",
    "first_pokemon = pokemons[0]\n",
    "print(first_pokemon)"
   ]
  },
  {
   "cell_type": "code",
   "execution_count": 15,
   "metadata": {},
   "outputs": [
    {
     "data": {
      "text/html": [
       "<pre style=\"white-space:pre;overflow-x:auto;line-height:normal;font-family:Menlo,'DejaVu Sans Mono',consolas,'Courier New',monospace\">The type of the element is: <span style=\"font-weight: bold\">&lt;</span><span style=\"color: #ff00ff; text-decoration-color: #ff00ff; font-weight: bold\">class</span><span style=\"color: #000000; text-decoration-color: #000000\"> </span><span style=\"color: #008000; text-decoration-color: #008000\">'bs4.element.Tag'</span><span style=\"font-weight: bold\">&gt;</span>\n",
       "</pre>\n"
      ],
      "text/plain": [
       "The type of the element is: \u001b[1m<\u001b[0m\u001b[1;95mclass\u001b[0m\u001b[39m \u001b[0m\u001b[32m'bs4.element.Tag'\u001b[0m\u001b[1m>\u001b[0m\n"
      ]
     },
     "metadata": {},
     "output_type": "display_data"
    }
   ],
   "source": [
    "print(f\"The type of the element is: {type(first_pokemon)}\")"
   ]
  },
  {
   "cell_type": "code",
   "execution_count": 16,
   "metadata": {},
   "outputs": [
    {
     "data": {
      "text/html": [
       "<pre style=\"white-space:pre;overflow-x:auto;line-height:normal;font-family:Menlo,'DejaVu Sans Mono',consolas,'Courier New',monospace\"><span style=\"font-weight: bold\">&lt;</span><span style=\"color: #ff00ff; text-decoration-color: #ff00ff; font-weight: bold\">tr</span><span style=\"color: #000000; text-decoration-color: #000000\">&gt;</span>\n",
       "<span style=\"color: #000000; text-decoration-color: #000000\">&lt;td </span><span style=\"color: #808000; text-decoration-color: #808000\">class</span><span style=\"color: #000000; text-decoration-color: #000000\">=</span><span style=\"color: #008000; text-decoration-color: #008000\">\"cell-num cell-fixed\"</span><span style=\"color: #000000; text-decoration-color: #000000\"> data-sort-</span><span style=\"color: #808000; text-decoration-color: #808000\">value</span><span style=\"color: #000000; text-decoration-color: #000000\">=</span><span style=\"color: #008000; text-decoration-color: #008000\">\"3\"</span><span style=\"color: #000000; text-decoration-color: #000000\">&gt;&lt;picture </span><span style=\"color: #808000; text-decoration-color: #808000\">class</span><span style=\"color: #000000; text-decoration-color: #000000\">=</span><span style=\"color: #008000; text-decoration-color: #008000\">\"infocard-cell-img\"</span><span style=\"color: #000000; text-decoration-color: #000000\">&gt;</span>\n",
       "<span style=\"color: #000000; text-decoration-color: #000000\">&lt;source </span><span style=\"color: #808000; text-decoration-color: #808000\">height</span><span style=\"color: #000000; text-decoration-color: #000000\">=</span><span style=\"color: #008000; text-decoration-color: #008000\">\"56\"</span><span style=\"color: #000000; text-decoration-color: #000000\"> </span><span style=\"color: #808000; text-decoration-color: #808000\">srcset</span><span style=\"color: #000000; text-decoration-color: #000000\">=</span><span style=\"color: #008000; text-decoration-color: #008000\">\"https://img.pokemondb.net/sprites/scarlet-violet/icon/avif/venusaur-mega.avif\"</span><span style=\"color: #000000; text-decoration-color: #000000\"> </span>\n",
       "<span style=\"color: #808000; text-decoration-color: #808000\">type</span><span style=\"color: #000000; text-decoration-color: #000000\">=</span><span style=\"color: #008000; text-decoration-color: #008000\">\"image/avif\"</span><span style=\"color: #000000; text-decoration-color: #000000\"> </span><span style=\"color: #808000; text-decoration-color: #808000\">width</span><span style=\"color: #000000; text-decoration-color: #000000\">=</span><span style=\"color: #008000; text-decoration-color: #008000\">\"60\"</span><span style=\"color: #800080; text-decoration-color: #800080\">/</span><span style=\"color: #000000; text-decoration-color: #000000\">&gt;</span>\n",
       "<span style=\"color: #000000; text-decoration-color: #000000\">&lt;img </span><span style=\"color: #808000; text-decoration-color: #808000\">alt</span><span style=\"color: #000000; text-decoration-color: #000000\">=</span><span style=\"color: #008000; text-decoration-color: #008000\">\"Mega Venusaur\"</span><span style=\"color: #000000; text-decoration-color: #000000\"> </span><span style=\"color: #808000; text-decoration-color: #808000\">class</span><span style=\"color: #000000; text-decoration-color: #000000\">=</span><span style=\"color: #008000; text-decoration-color: #008000\">\"img-fixed icon-pkmn\"</span><span style=\"color: #000000; text-decoration-color: #000000\"> </span><span style=\"color: #808000; text-decoration-color: #808000\">height</span><span style=\"color: #000000; text-decoration-color: #000000\">=</span><span style=\"color: #008000; text-decoration-color: #008000\">\"56\"</span><span style=\"color: #000000; text-decoration-color: #000000\"> </span><span style=\"color: #808000; text-decoration-color: #808000\">loading</span><span style=\"color: #000000; text-decoration-color: #000000\">=</span><span style=\"color: #008000; text-decoration-color: #008000\">\"lazy\"</span><span style=\"color: #000000; text-decoration-color: #000000\"> </span>\n",
       "<span style=\"color: #808000; text-decoration-color: #808000\">src</span><span style=\"color: #000000; text-decoration-color: #000000\">=</span><span style=\"color: #008000; text-decoration-color: #008000\">\"https://img.pokemondb.net/sprites/scarlet-violet/icon/venusaur-mega.png\"</span><span style=\"color: #000000; text-decoration-color: #000000\"> </span><span style=\"color: #808000; text-decoration-color: #808000\">width</span><span style=\"color: #000000; text-decoration-color: #000000\">=</span><span style=\"color: #008000; text-decoration-color: #008000\">\"60\"</span><span style=\"color: #800080; text-decoration-color: #800080\">/</span><span style=\"color: #000000; text-decoration-color: #000000\">&gt;</span>\n",
       "<span style=\"color: #000000; text-decoration-color: #000000\">&lt;</span><span style=\"color: #800080; text-decoration-color: #800080\">/</span><span style=\"color: #ff00ff; text-decoration-color: #ff00ff\">picture</span><span style=\"color: #000000; text-decoration-color: #000000\">&gt;&lt;span </span><span style=\"color: #808000; text-decoration-color: #808000\">class</span><span style=\"color: #000000; text-decoration-color: #000000\">=</span><span style=\"color: #008000; text-decoration-color: #008000\">\"infocard-cell-data\"</span><span style=\"color: #000000; text-decoration-color: #000000\">&gt;</span><span style=\"color: #008080; text-decoration-color: #008080; font-weight: bold\">0003</span><span style=\"color: #000000; text-decoration-color: #000000\">&lt;</span><span style=\"color: #800080; text-decoration-color: #800080\">/</span><span style=\"color: #ff00ff; text-decoration-color: #ff00ff\">span</span><span style=\"color: #000000; text-decoration-color: #000000\">&gt;&lt;</span><span style=\"color: #800080; text-decoration-color: #800080\">/</span><span style=\"color: #ff00ff; text-decoration-color: #ff00ff\">td</span><span style=\"color: #000000; text-decoration-color: #000000\">&gt; &lt;td </span><span style=\"color: #808000; text-decoration-color: #808000\">class</span><span style=\"color: #000000; text-decoration-color: #000000\">=</span><span style=\"color: #008000; text-decoration-color: #008000\">\"cell-name\"</span><span style=\"color: #000000; text-decoration-color: #000000\">&gt;&lt;a </span><span style=\"color: #808000; text-decoration-color: #808000\">class</span><span style=\"color: #000000; text-decoration-color: #000000\">=</span><span style=\"color: #008000; text-decoration-color: #008000\">\"ent-name\"</span><span style=\"color: #000000; text-decoration-color: #000000\"> </span>\n",
       "<span style=\"color: #808000; text-decoration-color: #808000\">href</span><span style=\"color: #000000; text-decoration-color: #000000\">=</span><span style=\"color: #008000; text-decoration-color: #008000\">\"/pokedex/venusaur\"</span><span style=\"color: #000000; text-decoration-color: #000000\"> </span><span style=\"color: #808000; text-decoration-color: #808000\">title</span><span style=\"color: #000000; text-decoration-color: #000000\">=</span><span style=\"color: #008000; text-decoration-color: #008000\">\"View Pokedex for #0003 Venusaur\"</span><span style=\"color: #000000; text-decoration-color: #000000\">&gt;Venusaur&lt;</span><span style=\"color: #800080; text-decoration-color: #800080\">/</span><span style=\"color: #ff00ff; text-decoration-color: #ff00ff\">a</span><span style=\"color: #000000; text-decoration-color: #000000\">&gt;&lt;br/&gt; &lt;small </span><span style=\"color: #808000; text-decoration-color: #808000\">class</span><span style=\"color: #000000; text-decoration-color: #000000\">=</span><span style=\"color: #008000; text-decoration-color: #008000\">\"text-muted\"</span><span style=\"color: #000000; text-decoration-color: #000000\">&gt;Mega </span>\n",
       "<span style=\"color: #000000; text-decoration-color: #000000\">Venusaur&lt;</span><span style=\"color: #800080; text-decoration-color: #800080\">/</span><span style=\"color: #ff00ff; text-decoration-color: #ff00ff\">small</span><span style=\"color: #000000; text-decoration-color: #000000\">&gt;&lt;</span><span style=\"color: #800080; text-decoration-color: #800080\">/</span><span style=\"color: #ff00ff; text-decoration-color: #ff00ff\">td</span><span style=\"color: #000000; text-decoration-color: #000000\">&gt;&lt;td </span><span style=\"color: #808000; text-decoration-color: #808000\">class</span><span style=\"color: #000000; text-decoration-color: #000000\">=</span><span style=\"color: #008000; text-decoration-color: #008000\">\"cell-icon\"</span><span style=\"color: #000000; text-decoration-color: #000000\">&gt;&lt;a </span><span style=\"color: #808000; text-decoration-color: #808000\">class</span><span style=\"color: #000000; text-decoration-color: #000000\">=</span><span style=\"color: #008000; text-decoration-color: #008000\">\"type-icon type-grass\"</span><span style=\"color: #000000; text-decoration-color: #000000\"> </span><span style=\"color: #808000; text-decoration-color: #808000\">href</span><span style=\"color: #000000; text-decoration-color: #000000\">=</span><span style=\"color: #008000; text-decoration-color: #008000\">\"/type/grass\"</span><span style=\"color: #000000; text-decoration-color: #000000\">&gt;Grass&lt;</span><span style=\"color: #800080; text-decoration-color: #800080\">/</span><span style=\"color: #ff00ff; text-decoration-color: #ff00ff\">a</span><span style=\"color: #000000; text-decoration-color: #000000\">&gt;&lt;br/&gt; &lt;a </span>\n",
       "<span style=\"color: #808000; text-decoration-color: #808000\">class</span><span style=\"color: #000000; text-decoration-color: #000000\">=</span><span style=\"color: #008000; text-decoration-color: #008000\">\"type-icon type-poison\"</span><span style=\"color: #000000; text-decoration-color: #000000\"> </span><span style=\"color: #808000; text-decoration-color: #808000\">href</span><span style=\"color: #000000; text-decoration-color: #000000\">=</span><span style=\"color: #008000; text-decoration-color: #008000\">\"/type/poison\"</span><span style=\"color: #000000; text-decoration-color: #000000\">&gt;Poison&lt;</span><span style=\"color: #800080; text-decoration-color: #800080\">/</span><span style=\"color: #ff00ff; text-decoration-color: #ff00ff\">a</span><span style=\"color: #000000; text-decoration-color: #000000\">&gt;&lt;</span><span style=\"color: #800080; text-decoration-color: #800080\">/</span><span style=\"color: #ff00ff; text-decoration-color: #ff00ff\">td</span><span style=\"color: #000000; text-decoration-color: #000000\">&gt;</span>\n",
       "<span style=\"color: #000000; text-decoration-color: #000000\">&lt;td </span><span style=\"color: #808000; text-decoration-color: #808000\">class</span><span style=\"color: #000000; text-decoration-color: #000000\">=</span><span style=\"color: #008000; text-decoration-color: #008000\">\"cell-num cell-total\"</span><span style=\"color: #000000; text-decoration-color: #000000\">&gt;</span><span style=\"color: #008080; text-decoration-color: #008080; font-weight: bold\">625</span><span style=\"color: #000000; text-decoration-color: #000000\">&lt;</span><span style=\"color: #800080; text-decoration-color: #800080\">/</span><span style=\"color: #ff00ff; text-decoration-color: #ff00ff\">td</span><span style=\"color: #000000; text-decoration-color: #000000\">&gt;</span>\n",
       "<span style=\"color: #000000; text-decoration-color: #000000\">&lt;td </span><span style=\"color: #808000; text-decoration-color: #808000\">class</span><span style=\"color: #000000; text-decoration-color: #000000\">=</span><span style=\"color: #008000; text-decoration-color: #008000\">\"cell-num\"</span><span style=\"color: #000000; text-decoration-color: #000000\">&gt;</span><span style=\"color: #008080; text-decoration-color: #008080; font-weight: bold\">80</span><span style=\"color: #000000; text-decoration-color: #000000\">&lt;</span><span style=\"color: #800080; text-decoration-color: #800080\">/</span><span style=\"color: #ff00ff; text-decoration-color: #ff00ff\">td</span><span style=\"color: #000000; text-decoration-color: #000000\">&gt;</span>\n",
       "<span style=\"color: #000000; text-decoration-color: #000000\">&lt;td </span><span style=\"color: #808000; text-decoration-color: #808000\">class</span><span style=\"color: #000000; text-decoration-color: #000000\">=</span><span style=\"color: #008000; text-decoration-color: #008000\">\"cell-num\"</span><span style=\"color: #000000; text-decoration-color: #000000\">&gt;</span><span style=\"color: #008080; text-decoration-color: #008080; font-weight: bold\">100</span><span style=\"color: #000000; text-decoration-color: #000000\">&lt;</span><span style=\"color: #800080; text-decoration-color: #800080\">/</span><span style=\"color: #ff00ff; text-decoration-color: #ff00ff\">td</span><span style=\"color: #000000; text-decoration-color: #000000\">&gt;</span>\n",
       "<span style=\"color: #000000; text-decoration-color: #000000\">&lt;td </span><span style=\"color: #808000; text-decoration-color: #808000\">class</span><span style=\"color: #000000; text-decoration-color: #000000\">=</span><span style=\"color: #008000; text-decoration-color: #008000\">\"cell-num\"</span><span style=\"color: #000000; text-decoration-color: #000000\">&gt;</span><span style=\"color: #008080; text-decoration-color: #008080; font-weight: bold\">123</span><span style=\"color: #000000; text-decoration-color: #000000\">&lt;</span><span style=\"color: #800080; text-decoration-color: #800080\">/</span><span style=\"color: #ff00ff; text-decoration-color: #ff00ff\">td</span><span style=\"color: #000000; text-decoration-color: #000000\">&gt;</span>\n",
       "<span style=\"color: #000000; text-decoration-color: #000000\">&lt;td </span><span style=\"color: #808000; text-decoration-color: #808000\">class</span><span style=\"color: #000000; text-decoration-color: #000000\">=</span><span style=\"color: #008000; text-decoration-color: #008000\">\"cell-num\"</span><span style=\"color: #000000; text-decoration-color: #000000\">&gt;</span><span style=\"color: #008080; text-decoration-color: #008080; font-weight: bold\">122</span><span style=\"color: #000000; text-decoration-color: #000000\">&lt;</span><span style=\"color: #800080; text-decoration-color: #800080\">/</span><span style=\"color: #ff00ff; text-decoration-color: #ff00ff\">td</span><span style=\"color: #000000; text-decoration-color: #000000\">&gt;</span>\n",
       "<span style=\"color: #000000; text-decoration-color: #000000\">&lt;td </span><span style=\"color: #808000; text-decoration-color: #808000\">class</span><span style=\"color: #000000; text-decoration-color: #000000\">=</span><span style=\"color: #008000; text-decoration-color: #008000\">\"cell-num\"</span><span style=\"color: #000000; text-decoration-color: #000000\">&gt;</span><span style=\"color: #008080; text-decoration-color: #008080; font-weight: bold\">120</span><span style=\"color: #000000; text-decoration-color: #000000\">&lt;</span><span style=\"color: #800080; text-decoration-color: #800080\">/</span><span style=\"color: #ff00ff; text-decoration-color: #ff00ff\">td</span><span style=\"color: #000000; text-decoration-color: #000000\">&gt;</span>\n",
       "<span style=\"color: #000000; text-decoration-color: #000000\">&lt;td </span><span style=\"color: #808000; text-decoration-color: #808000\">class</span><span style=\"color: #000000; text-decoration-color: #000000\">=</span><span style=\"color: #008000; text-decoration-color: #008000\">\"cell-num\"</span><span style=\"color: #000000; text-decoration-color: #000000\">&gt;</span><span style=\"color: #008080; text-decoration-color: #008080; font-weight: bold\">80</span><span style=\"color: #000000; text-decoration-color: #000000\">&lt;</span><span style=\"color: #800080; text-decoration-color: #800080\">/</span><span style=\"color: #ff00ff; text-decoration-color: #ff00ff\">td</span><span style=\"color: #000000; text-decoration-color: #000000\">&gt;</span>\n",
       "<span style=\"color: #000000; text-decoration-color: #000000\">&lt;</span><span style=\"color: #800080; text-decoration-color: #800080\">/</span><span style=\"color: #ff00ff; text-decoration-color: #ff00ff\">tr</span><span style=\"font-weight: bold\">&gt;</span>\n",
       "</pre>\n"
      ],
      "text/plain": [
       "\u001b[1m<\u001b[0m\u001b[1;95mtr\u001b[0m\u001b[39m>\u001b[0m\n",
       "\u001b[39m<td \u001b[0m\u001b[33mclass\u001b[0m\u001b[39m=\u001b[0m\u001b[32m\"cell\u001b[0m\u001b[32m-num cell-fixed\"\u001b[0m\u001b[39m data-sort-\u001b[0m\u001b[33mvalue\u001b[0m\u001b[39m=\u001b[0m\u001b[32m\"3\"\u001b[0m\u001b[39m><picture \u001b[0m\u001b[33mclass\u001b[0m\u001b[39m=\u001b[0m\u001b[32m\"infocard\u001b[0m\u001b[32m-cell-img\"\u001b[0m\u001b[39m>\u001b[0m\n",
       "\u001b[39m<source \u001b[0m\u001b[33mheight\u001b[0m\u001b[39m=\u001b[0m\u001b[32m\"56\"\u001b[0m\u001b[39m \u001b[0m\u001b[33msrcset\u001b[0m\u001b[39m=\u001b[0m\u001b[32m\"https\u001b[0m\u001b[32m://img.pokemondb.net/sprites/scarlet-violet/icon/avif/venusaur-mega.avif\"\u001b[0m\u001b[39m \u001b[0m\n",
       "\u001b[33mtype\u001b[0m\u001b[39m=\u001b[0m\u001b[32m\"image\u001b[0m\u001b[32m/avif\"\u001b[0m\u001b[39m \u001b[0m\u001b[33mwidth\u001b[0m\u001b[39m=\u001b[0m\u001b[32m\"60\"\u001b[0m\u001b[35m/\u001b[0m\u001b[39m>\u001b[0m\n",
       "\u001b[39m<img \u001b[0m\u001b[33malt\u001b[0m\u001b[39m=\u001b[0m\u001b[32m\"Mega\u001b[0m\u001b[32m Venusaur\"\u001b[0m\u001b[39m \u001b[0m\u001b[33mclass\u001b[0m\u001b[39m=\u001b[0m\u001b[32m\"img\u001b[0m\u001b[32m-fixed icon-pkmn\"\u001b[0m\u001b[39m \u001b[0m\u001b[33mheight\u001b[0m\u001b[39m=\u001b[0m\u001b[32m\"56\"\u001b[0m\u001b[39m \u001b[0m\u001b[33mloading\u001b[0m\u001b[39m=\u001b[0m\u001b[32m\"lazy\"\u001b[0m\u001b[39m \u001b[0m\n",
       "\u001b[33msrc\u001b[0m\u001b[39m=\u001b[0m\u001b[32m\"https\u001b[0m\u001b[32m://img.pokemondb.net/sprites/scarlet-violet/icon/venusaur-mega.png\"\u001b[0m\u001b[39m \u001b[0m\u001b[33mwidth\u001b[0m\u001b[39m=\u001b[0m\u001b[32m\"60\"\u001b[0m\u001b[35m/\u001b[0m\u001b[39m>\u001b[0m\n",
       "\u001b[39m<\u001b[0m\u001b[35m/\u001b[0m\u001b[95mpicture\u001b[0m\u001b[39m><span \u001b[0m\u001b[33mclass\u001b[0m\u001b[39m=\u001b[0m\u001b[32m\"infocard\u001b[0m\u001b[32m-cell-data\"\u001b[0m\u001b[39m>\u001b[0m\u001b[1;36m0003\u001b[0m\u001b[39m<\u001b[0m\u001b[35m/\u001b[0m\u001b[95mspan\u001b[0m\u001b[39m><\u001b[0m\u001b[35m/\u001b[0m\u001b[95mtd\u001b[0m\u001b[39m> <td \u001b[0m\u001b[33mclass\u001b[0m\u001b[39m=\u001b[0m\u001b[32m\"cell\u001b[0m\u001b[32m-name\"\u001b[0m\u001b[39m><a \u001b[0m\u001b[33mclass\u001b[0m\u001b[39m=\u001b[0m\u001b[32m\"ent\u001b[0m\u001b[32m-name\"\u001b[0m\u001b[39m \u001b[0m\n",
       "\u001b[33mhref\u001b[0m\u001b[39m=\u001b[0m\u001b[32m\"/pokedex/venusaur\"\u001b[0m\u001b[39m \u001b[0m\u001b[33mtitle\u001b[0m\u001b[39m=\u001b[0m\u001b[32m\"View\u001b[0m\u001b[32m Pokedex for #0003 Venusaur\"\u001b[0m\u001b[39m>Venusaur<\u001b[0m\u001b[35m/\u001b[0m\u001b[95ma\u001b[0m\u001b[39m><br/> <small \u001b[0m\u001b[33mclass\u001b[0m\u001b[39m=\u001b[0m\u001b[32m\"text\u001b[0m\u001b[32m-muted\"\u001b[0m\u001b[39m>Mega \u001b[0m\n",
       "\u001b[39mVenusaur<\u001b[0m\u001b[35m/\u001b[0m\u001b[95msmall\u001b[0m\u001b[39m><\u001b[0m\u001b[35m/\u001b[0m\u001b[95mtd\u001b[0m\u001b[39m><td \u001b[0m\u001b[33mclass\u001b[0m\u001b[39m=\u001b[0m\u001b[32m\"cell\u001b[0m\u001b[32m-icon\"\u001b[0m\u001b[39m><a \u001b[0m\u001b[33mclass\u001b[0m\u001b[39m=\u001b[0m\u001b[32m\"type\u001b[0m\u001b[32m-icon type-grass\"\u001b[0m\u001b[39m \u001b[0m\u001b[33mhref\u001b[0m\u001b[39m=\u001b[0m\u001b[32m\"/type/grass\"\u001b[0m\u001b[39m>Grass<\u001b[0m\u001b[35m/\u001b[0m\u001b[95ma\u001b[0m\u001b[39m><br/> <a \u001b[0m\n",
       "\u001b[33mclass\u001b[0m\u001b[39m=\u001b[0m\u001b[32m\"type\u001b[0m\u001b[32m-icon type-poison\"\u001b[0m\u001b[39m \u001b[0m\u001b[33mhref\u001b[0m\u001b[39m=\u001b[0m\u001b[32m\"/type/poison\"\u001b[0m\u001b[39m>Poison<\u001b[0m\u001b[35m/\u001b[0m\u001b[95ma\u001b[0m\u001b[39m><\u001b[0m\u001b[35m/\u001b[0m\u001b[95mtd\u001b[0m\u001b[39m>\u001b[0m\n",
       "\u001b[39m<td \u001b[0m\u001b[33mclass\u001b[0m\u001b[39m=\u001b[0m\u001b[32m\"cell\u001b[0m\u001b[32m-num cell-total\"\u001b[0m\u001b[39m>\u001b[0m\u001b[1;36m625\u001b[0m\u001b[39m<\u001b[0m\u001b[35m/\u001b[0m\u001b[95mtd\u001b[0m\u001b[39m>\u001b[0m\n",
       "\u001b[39m<td \u001b[0m\u001b[33mclass\u001b[0m\u001b[39m=\u001b[0m\u001b[32m\"cell\u001b[0m\u001b[32m-num\"\u001b[0m\u001b[39m>\u001b[0m\u001b[1;36m80\u001b[0m\u001b[39m<\u001b[0m\u001b[35m/\u001b[0m\u001b[95mtd\u001b[0m\u001b[39m>\u001b[0m\n",
       "\u001b[39m<td \u001b[0m\u001b[33mclass\u001b[0m\u001b[39m=\u001b[0m\u001b[32m\"cell\u001b[0m\u001b[32m-num\"\u001b[0m\u001b[39m>\u001b[0m\u001b[1;36m100\u001b[0m\u001b[39m<\u001b[0m\u001b[35m/\u001b[0m\u001b[95mtd\u001b[0m\u001b[39m>\u001b[0m\n",
       "\u001b[39m<td \u001b[0m\u001b[33mclass\u001b[0m\u001b[39m=\u001b[0m\u001b[32m\"cell\u001b[0m\u001b[32m-num\"\u001b[0m\u001b[39m>\u001b[0m\u001b[1;36m123\u001b[0m\u001b[39m<\u001b[0m\u001b[35m/\u001b[0m\u001b[95mtd\u001b[0m\u001b[39m>\u001b[0m\n",
       "\u001b[39m<td \u001b[0m\u001b[33mclass\u001b[0m\u001b[39m=\u001b[0m\u001b[32m\"cell\u001b[0m\u001b[32m-num\"\u001b[0m\u001b[39m>\u001b[0m\u001b[1;36m122\u001b[0m\u001b[39m<\u001b[0m\u001b[35m/\u001b[0m\u001b[95mtd\u001b[0m\u001b[39m>\u001b[0m\n",
       "\u001b[39m<td \u001b[0m\u001b[33mclass\u001b[0m\u001b[39m=\u001b[0m\u001b[32m\"cell\u001b[0m\u001b[32m-num\"\u001b[0m\u001b[39m>\u001b[0m\u001b[1;36m120\u001b[0m\u001b[39m<\u001b[0m\u001b[35m/\u001b[0m\u001b[95mtd\u001b[0m\u001b[39m>\u001b[0m\n",
       "\u001b[39m<td \u001b[0m\u001b[33mclass\u001b[0m\u001b[39m=\u001b[0m\u001b[32m\"cell\u001b[0m\u001b[32m-num\"\u001b[0m\u001b[39m>\u001b[0m\u001b[1;36m80\u001b[0m\u001b[39m<\u001b[0m\u001b[35m/\u001b[0m\u001b[95mtd\u001b[0m\u001b[39m>\u001b[0m\n",
       "\u001b[39m<\u001b[0m\u001b[35m/\u001b[0m\u001b[95mtr\u001b[0m\u001b[1m>\u001b[0m\n"
      ]
     },
     "metadata": {},
     "output_type": "display_data"
    }
   ],
   "source": [
    "# Single Mega pokemon stat\n",
    "mega_pokemon = pokemons[3]\n",
    "print(mega_pokemon)"
   ]
  },
  {
   "cell_type": "code",
   "execution_count": 17,
   "metadata": {},
   "outputs": [
    {
     "data": {
      "text/html": [
       "<pre style=\"white-space:pre;overflow-x:auto;line-height:normal;font-family:Menlo,'DejaVu Sans Mono',consolas,'Courier New',monospace\">The pokemon icon URL is: <span style=\"color: #0000ff; text-decoration-color: #0000ff; text-decoration: underline\">https://img.pokemondb.net/sprites/scarlet-violet/icon/venusaur-mega.png</span>\n",
       "</pre>\n"
      ],
      "text/plain": [
       "The pokemon icon URL is: \u001b[4;94mhttps://img.pokemondb.net/sprites/scarlet-violet/icon/venusaur-mega.png\u001b[0m\n"
      ]
     },
     "metadata": {},
     "output_type": "display_data"
    }
   ],
   "source": [
    "icon_url = mega_pokemon.find(\"img\", class_=\"icon-pkmn\")[\"src\"]\n",
    "print(f\"The pokemon icon URL is: {icon_url}\")"
   ]
  },
  {
   "cell_type": "markdown",
   "metadata": {},
   "source": [
    "Here is how the mega pokemon looks:\n",
    "\n",
    "![Mega Pokemon](https://img.pokemondb.net/sprites/scarlet-violet/icon/venusaur-mega.png)\n"
   ]
  },
  {
   "cell_type": "code",
   "execution_count": 18,
   "metadata": {},
   "outputs": [
    {
     "data": {
      "text/html": [
       "<pre style=\"white-space:pre;overflow-x:auto;line-height:normal;font-family:Menlo,'DejaVu Sans Mono',consolas,'Courier New',monospace\">The rank on the mega pokemon is: <span style=\"color: #008080; text-decoration-color: #008080; font-weight: bold\">0003</span>\n",
       "</pre>\n"
      ],
      "text/plain": [
       "The rank on the mega pokemon is: \u001b[1;36m0003\u001b[0m\n"
      ]
     },
     "metadata": {},
     "output_type": "display_data"
    }
   ],
   "source": [
    "rank = mega_pokemon.find(\"span\", class_=\"infocard-cell-data\").text\n",
    "print(f\"The rank on the mega pokemon is: {rank}\")"
   ]
  },
  {
   "cell_type": "code",
   "execution_count": 19,
   "metadata": {},
   "outputs": [
    {
     "data": {
      "text/html": [
       "<pre style=\"white-space:pre;overflow-x:auto;line-height:normal;font-family:Menlo,'DejaVu Sans Mono',consolas,'Courier New',monospace\">The general name of the mega pokemon is: Venusaur\n",
       "</pre>\n"
      ],
      "text/plain": [
       "The general name of the mega pokemon is: Venusaur\n"
      ]
     },
     "metadata": {},
     "output_type": "display_data"
    }
   ],
   "source": [
    "pokemon_name = mega_pokemon.find(\"a\", class_=\"ent-name\").text\n",
    "print(f\"The general name of the mega pokemon is: {pokemon_name}\")"
   ]
  },
  {
   "cell_type": "code",
   "execution_count": 20,
   "metadata": {},
   "outputs": [
    {
     "data": {
      "text/html": [
       "<pre style=\"white-space:pre;overflow-x:auto;line-height:normal;font-family:Menlo,'DejaVu Sans Mono',consolas,'Courier New',monospace\">The mega name of the mega pokemon is: Mega Venusaur\n",
       "</pre>\n"
      ],
      "text/plain": [
       "The mega name of the mega pokemon is: Mega Venusaur\n"
      ]
     },
     "metadata": {},
     "output_type": "display_data"
    }
   ],
   "source": [
    "mega_name = mega_pokemon.find(\"small\", class_=\"text-muted\").text\n",
    "print(f\"The mega name of the mega pokemon is: {mega_name}\")"
   ]
  },
  {
   "cell_type": "code",
   "execution_count": 21,
   "metadata": {},
   "outputs": [
    {
     "data": {
      "text/html": [
       "<pre style=\"white-space:pre;overflow-x:auto;line-height:normal;font-family:Menlo,'DejaVu Sans Mono',consolas,'Courier New',monospace\">The name of the mega pokemon is: Mega Venusaur\n",
       "</pre>\n"
      ],
      "text/plain": [
       "The name of the mega pokemon is: Mega Venusaur\n"
      ]
     },
     "metadata": {},
     "output_type": "display_data"
    }
   ],
   "source": [
    "# Only provide mega name if it exists eive just give the pokemon name\n",
    "try:\n",
    "    name = mega_pokemon.find(\"small\", class_=\"text-muted\").text\n",
    "except AttributeError:\n",
    "    name = mega_pokemon.find(\"a\", class_=\"ent-name\").text\n",
    "\n",
    "print(f\"The name of the mega pokemon is: {name}\")"
   ]
  },
  {
   "cell_type": "code",
   "execution_count": 22,
   "metadata": {},
   "outputs": [
    {
     "data": {
      "text/html": [
       "<pre style=\"white-space:pre;overflow-x:auto;line-height:normal;font-family:Menlo,'DejaVu Sans Mono',consolas,'Courier New',monospace\">The details about the mega pokemon can be found at: <span style=\"color: #0000ff; text-decoration-color: #0000ff; text-decoration: underline\">https://pokemondb.net/pokedex/venusaur</span>\n",
       "</pre>\n"
      ],
      "text/plain": [
       "The details about the mega pokemon can be found at: \u001b[4;94mhttps://pokemondb.net/pokedex/venusaur\u001b[0m\n"
      ]
     },
     "metadata": {},
     "output_type": "display_data"
    }
   ],
   "source": [
    "details_path = mega_pokemon.find(\"a\", class_=\"ent-name\")[\"href\"]\n",
    "details_url = urljoin(root_url, details_path)\n",
    "\n",
    "print(f\"The details about the mega pokemon can be found at: {details_url}\")"
   ]
  },
  {
   "cell_type": "markdown",
   "metadata": {},
   "source": [
    "Know the mega facts about this mega pokemon:\n",
    "[Venesaur](https://pokemondb.net/pokedex/venusaur)"
   ]
  },
  {
   "cell_type": "code",
   "execution_count": 23,
   "metadata": {},
   "outputs": [
    {
     "data": {
      "text/html": [
       "<pre style=\"white-space:pre;overflow-x:auto;line-height:normal;font-family:Menlo,'DejaVu Sans Mono',consolas,'Courier New',monospace\">The types of the mega pokemon are: Grass, Poison\n",
       "</pre>\n"
      ],
      "text/plain": [
       "The types of the mega pokemon are: Grass, Poison\n"
      ]
     },
     "metadata": {},
     "output_type": "display_data"
    }
   ],
   "source": [
    "types_list = [type.text for type in mega_pokemon.find_all(\"a\", class_=\"type-icon\")]\n",
    "types = \", \".join(types_list)\n",
    "\n",
    "print(f\"The types of the mega pokemon are: {types}\")"
   ]
  },
  {
   "cell_type": "code",
   "execution_count": 24,
   "metadata": {},
   "outputs": [
    {
     "data": {
      "text/html": [
       "<pre style=\"white-space:pre;overflow-x:auto;line-height:normal;font-family:Menlo,'DejaVu Sans Mono',consolas,'Courier New',monospace\">The total power of the pokemon is: <span style=\"color: #008080; text-decoration-color: #008080; font-weight: bold\">625</span>\n",
       "</pre>\n"
      ],
      "text/plain": [
       "The total power of the pokemon is: \u001b[1;36m625\u001b[0m\n"
      ]
     },
     "metadata": {},
     "output_type": "display_data"
    }
   ],
   "source": [
    "total_power = mega_pokemon.find(\"td\", class_=\"cell-total\").text\n",
    "print(f\"The total power of the pokemon is: {total_power}\")"
   ]
  },
  {
   "cell_type": "code",
   "execution_count": 25,
   "metadata": {},
   "outputs": [
    {
     "data": {
      "text/html": [
       "<pre style=\"white-space:pre;overflow-x:auto;line-height:normal;font-family:Menlo,'DejaVu Sans Mono',consolas,'Courier New',monospace\">The hp of mega pokemon is: <span style=\"color: #008080; text-decoration-color: #008080; font-weight: bold\">80</span>\n",
       "</pre>\n"
      ],
      "text/plain": [
       "The hp of mega pokemon is: \u001b[1;36m80\u001b[0m\n"
      ]
     },
     "metadata": {},
     "output_type": "display_data"
    },
    {
     "data": {
      "text/html": [
       "<pre style=\"white-space:pre;overflow-x:auto;line-height:normal;font-family:Menlo,'DejaVu Sans Mono',consolas,'Courier New',monospace\">The attack of mega pokemon is: <span style=\"color: #008080; text-decoration-color: #008080; font-weight: bold\">100</span>\n",
       "</pre>\n"
      ],
      "text/plain": [
       "The attack of mega pokemon is: \u001b[1;36m100\u001b[0m\n"
      ]
     },
     "metadata": {},
     "output_type": "display_data"
    },
    {
     "data": {
      "text/html": [
       "<pre style=\"white-space:pre;overflow-x:auto;line-height:normal;font-family:Menlo,'DejaVu Sans Mono',consolas,'Courier New',monospace\">The defense of mega pokemon is: <span style=\"color: #008080; text-decoration-color: #008080; font-weight: bold\">123</span>\n",
       "</pre>\n"
      ],
      "text/plain": [
       "The defense of mega pokemon is: \u001b[1;36m123\u001b[0m\n"
      ]
     },
     "metadata": {},
     "output_type": "display_data"
    },
    {
     "data": {
      "text/html": [
       "<pre style=\"white-space:pre;overflow-x:auto;line-height:normal;font-family:Menlo,'DejaVu Sans Mono',consolas,'Courier New',monospace\">The special_attack of mega pokemon is: <span style=\"color: #008080; text-decoration-color: #008080; font-weight: bold\">122</span>\n",
       "</pre>\n"
      ],
      "text/plain": [
       "The special_attack of mega pokemon is: \u001b[1;36m122\u001b[0m\n"
      ]
     },
     "metadata": {},
     "output_type": "display_data"
    },
    {
     "data": {
      "text/html": [
       "<pre style=\"white-space:pre;overflow-x:auto;line-height:normal;font-family:Menlo,'DejaVu Sans Mono',consolas,'Courier New',monospace\">The special_defense of mega pokemon is: <span style=\"color: #008080; text-decoration-color: #008080; font-weight: bold\">120</span>\n",
       "</pre>\n"
      ],
      "text/plain": [
       "The special_defense of mega pokemon is: \u001b[1;36m120\u001b[0m\n"
      ]
     },
     "metadata": {},
     "output_type": "display_data"
    },
    {
     "data": {
      "text/html": [
       "<pre style=\"white-space:pre;overflow-x:auto;line-height:normal;font-family:Menlo,'DejaVu Sans Mono',consolas,'Courier New',monospace\">The speed of mega pokemon is: <span style=\"color: #008080; text-decoration-color: #008080; font-weight: bold\">80</span>\n",
       "</pre>\n"
      ],
      "text/plain": [
       "The speed of mega pokemon is: \u001b[1;36m80\u001b[0m\n"
      ]
     },
     "metadata": {},
     "output_type": "display_data"
    }
   ],
   "source": [
    "power_stats = mega_pokemon.find_all(\"td\", class_=\"cell-num\")[2:]\n",
    "\n",
    "hp = power_stats[0].text\n",
    "attack = power_stats[1].text\n",
    "defense = power_stats[2].text\n",
    "special_attack = power_stats[3].text\n",
    "special_defense = power_stats[4].text\n",
    "speed = power_stats[5].text\n",
    "\n",
    "print(f\"The hp of mega pokemon is: {hp}\")\n",
    "print(f\"The attack of mega pokemon is: {attack}\")\n",
    "print(f\"The defense of mega pokemon is: {defense}\")\n",
    "print(f\"The special_attack of mega pokemon is: {special_attack}\")\n",
    "print(f\"The special_defense of mega pokemon is: {special_defense}\")\n",
    "print(f\"The speed of mega pokemon is: {speed}\")"
   ]
  },
  {
   "cell_type": "code",
   "execution_count": 26,
   "metadata": {},
   "outputs": [
    {
     "data": {
      "text/html": [
       "<pre style=\"white-space:pre;overflow-x:auto;line-height:normal;font-family:Menlo,'DejaVu Sans Mono',consolas,'Courier New',monospace\">The current timestamp is: <span style=\"color: #008080; text-decoration-color: #008080; font-weight: bold\">2024</span>-<span style=\"color: #008080; text-decoration-color: #008080; font-weight: bold\">02</span>-<span style=\"color: #008080; text-decoration-color: #008080; font-weight: bold\">24</span> <span style=\"color: #00ff00; text-decoration-color: #00ff00; font-weight: bold\">13:57:52</span>\n",
       "</pre>\n"
      ],
      "text/plain": [
       "The current timestamp is: \u001b[1;36m2024\u001b[0m-\u001b[1;36m02\u001b[0m-\u001b[1;36m24\u001b[0m \u001b[1;92m13:57:52\u001b[0m\n"
      ]
     },
     "metadata": {},
     "output_type": "display_data"
    }
   ],
   "source": [
    "current_timestamp = datetime.now().strftime(\"%Y-%m-%d %H:%M:%S\")\n",
    "print(f\"The current timestamp is: {current_timestamp}\")"
   ]
  },
  {
   "cell_type": "markdown",
   "metadata": {},
   "source": [
    "## Functionize Stats Extraction"
   ]
  },
  {
   "cell_type": "code",
   "execution_count": 27,
   "metadata": {},
   "outputs": [],
   "source": [
    "def extract_pokemon_stats(pokemon: bs4.element.Tag) -> dict:\n",
    "\n",
    "    # Get the mega name of the pokemon if exists\n",
    "    try:\n",
    "        name = pokemon.find(\"small\", class_=\"text-muted\").text\n",
    "    except AttributeError:\n",
    "        name = pokemon.find(\"a\", class_=\"ent-name\").text\n",
    "\n",
    "    # Partial details URL path of the pokemon\n",
    "    partial_details_path = pokemon.find(\"a\", class_=\"ent-name\")[\"href\"]\n",
    "\n",
    "    # Pokemon type(s) list\n",
    "    types_list = [type.text for type in pokemon.find_all(\"a\", class_=\"type-icon\")]\n",
    "\n",
    "    # Power stats of the pokemon\n",
    "    power_stats = pokemon.find_all(\"td\", class_=\"cell-num\")[2:]\n",
    "\n",
    "    pokemon_stats = PokemonInfo(\n",
    "        rank=pokemon.find(\"span\", class_=\"infocard-cell-data\").text,\n",
    "        name=name,\n",
    "        types=\", \".join(types_list),\n",
    "        total_power=pokemon.find(\"td\", class_=\"cell-total\").text,\n",
    "        hit_points=power_stats[0].text,\n",
    "        attack=power_stats[1].text,\n",
    "        defense=power_stats[2].text,\n",
    "        special_attack=power_stats[3].text,\n",
    "        special_defense=power_stats[4].text,\n",
    "        speed=power_stats[5].text,\n",
    "        icon_url=pokemon.find(\"img\", class_=\"icon-pkmn\")[\"src\"],\n",
    "        details_url=urljoin(root_url, partial_details_path),\n",
    "        scrape_ts=datetime.now().strftime(\"%Y-%m-%d %H:%M:%S\"),\n",
    "    )\n",
    "\n",
    "    return asdict(pokemon_stats)"
   ]
  },
  {
   "cell_type": "markdown",
   "metadata": {},
   "source": [
    "### Test Function"
   ]
  },
  {
   "cell_type": "code",
   "execution_count": 28,
   "metadata": {},
   "outputs": [
    {
     "data": {
      "text/html": [
       "<pre style=\"white-space:pre;overflow-x:auto;line-height:normal;font-family:Menlo,'DejaVu Sans Mono',consolas,'Courier New',monospace\"><span style=\"font-weight: bold\">{</span>\n",
       "    <span style=\"color: #008000; text-decoration-color: #008000\">'rank'</span>: <span style=\"color: #008000; text-decoration-color: #008000\">'0001'</span>,\n",
       "    <span style=\"color: #008000; text-decoration-color: #008000\">'name'</span>: <span style=\"color: #008000; text-decoration-color: #008000\">'Bulbasaur'</span>,\n",
       "    <span style=\"color: #008000; text-decoration-color: #008000\">'types'</span>: <span style=\"color: #008000; text-decoration-color: #008000\">'Grass, Poison'</span>,\n",
       "    <span style=\"color: #008000; text-decoration-color: #008000\">'total_power'</span>: <span style=\"color: #008000; text-decoration-color: #008000\">'318'</span>,\n",
       "    <span style=\"color: #008000; text-decoration-color: #008000\">'hit_points'</span>: <span style=\"color: #008000; text-decoration-color: #008000\">'45'</span>,\n",
       "    <span style=\"color: #008000; text-decoration-color: #008000\">'attack'</span>: <span style=\"color: #008000; text-decoration-color: #008000\">'49'</span>,\n",
       "    <span style=\"color: #008000; text-decoration-color: #008000\">'defense'</span>: <span style=\"color: #008000; text-decoration-color: #008000\">'49'</span>,\n",
       "    <span style=\"color: #008000; text-decoration-color: #008000\">'special_attack'</span>: <span style=\"color: #008000; text-decoration-color: #008000\">'65'</span>,\n",
       "    <span style=\"color: #008000; text-decoration-color: #008000\">'special_defense'</span>: <span style=\"color: #008000; text-decoration-color: #008000\">'65'</span>,\n",
       "    <span style=\"color: #008000; text-decoration-color: #008000\">'speed'</span>: <span style=\"color: #008000; text-decoration-color: #008000\">'45'</span>,\n",
       "    <span style=\"color: #008000; text-decoration-color: #008000\">'icon_url'</span>: <span style=\"color: #008000; text-decoration-color: #008000\">'https://img.pokemondb.net/sprites/scarlet-violet/icon/bulbasaur.png'</span>,\n",
       "    <span style=\"color: #008000; text-decoration-color: #008000\">'details_url'</span>: <span style=\"color: #008000; text-decoration-color: #008000\">'https://pokemondb.net/pokedex/bulbasaur'</span>,\n",
       "    <span style=\"color: #008000; text-decoration-color: #008000\">'scrape_ts'</span>: <span style=\"color: #008000; text-decoration-color: #008000\">'2024-02-24 13:57:52'</span>\n",
       "<span style=\"font-weight: bold\">}</span>\n",
       "</pre>\n"
      ],
      "text/plain": [
       "\u001b[1m{\u001b[0m\n",
       "    \u001b[32m'rank'\u001b[0m: \u001b[32m'0001'\u001b[0m,\n",
       "    \u001b[32m'name'\u001b[0m: \u001b[32m'Bulbasaur'\u001b[0m,\n",
       "    \u001b[32m'types'\u001b[0m: \u001b[32m'Grass, Poison'\u001b[0m,\n",
       "    \u001b[32m'total_power'\u001b[0m: \u001b[32m'318'\u001b[0m,\n",
       "    \u001b[32m'hit_points'\u001b[0m: \u001b[32m'45'\u001b[0m,\n",
       "    \u001b[32m'attack'\u001b[0m: \u001b[32m'49'\u001b[0m,\n",
       "    \u001b[32m'defense'\u001b[0m: \u001b[32m'49'\u001b[0m,\n",
       "    \u001b[32m'special_attack'\u001b[0m: \u001b[32m'65'\u001b[0m,\n",
       "    \u001b[32m'special_defense'\u001b[0m: \u001b[32m'65'\u001b[0m,\n",
       "    \u001b[32m'speed'\u001b[0m: \u001b[32m'45'\u001b[0m,\n",
       "    \u001b[32m'icon_url'\u001b[0m: \u001b[32m'https://img.pokemondb.net/sprites/scarlet-violet/icon/bulbasaur.png'\u001b[0m,\n",
       "    \u001b[32m'details_url'\u001b[0m: \u001b[32m'https://pokemondb.net/pokedex/bulbasaur'\u001b[0m,\n",
       "    \u001b[32m'scrape_ts'\u001b[0m: \u001b[32m'2024-02-24 13:57:52'\u001b[0m\n",
       "\u001b[1m}\u001b[0m\n"
      ]
     },
     "metadata": {},
     "output_type": "display_data"
    }
   ],
   "source": [
    "# Extract info of the first pokemon:\n",
    "pokemon_data = extract_pokemon_stats(first_pokemon)\n",
    "print(pokemon_data)"
   ]
  },
  {
   "cell_type": "code",
   "execution_count": 29,
   "metadata": {},
   "outputs": [
    {
     "data": {
      "text/html": [
       "<pre style=\"white-space:pre;overflow-x:auto;line-height:normal;font-family:Menlo,'DejaVu Sans Mono',consolas,'Courier New',monospace\"><span style=\"font-weight: bold\">{</span>\n",
       "    <span style=\"color: #008000; text-decoration-color: #008000\">'rank'</span>: <span style=\"color: #008000; text-decoration-color: #008000\">'0004'</span>,\n",
       "    <span style=\"color: #008000; text-decoration-color: #008000\">'name'</span>: <span style=\"color: #008000; text-decoration-color: #008000\">'Charmander'</span>,\n",
       "    <span style=\"color: #008000; text-decoration-color: #008000\">'types'</span>: <span style=\"color: #008000; text-decoration-color: #008000\">'Fire'</span>,\n",
       "    <span style=\"color: #008000; text-decoration-color: #008000\">'total_power'</span>: <span style=\"color: #008000; text-decoration-color: #008000\">'309'</span>,\n",
       "    <span style=\"color: #008000; text-decoration-color: #008000\">'hit_points'</span>: <span style=\"color: #008000; text-decoration-color: #008000\">'39'</span>,\n",
       "    <span style=\"color: #008000; text-decoration-color: #008000\">'attack'</span>: <span style=\"color: #008000; text-decoration-color: #008000\">'52'</span>,\n",
       "    <span style=\"color: #008000; text-decoration-color: #008000\">'defense'</span>: <span style=\"color: #008000; text-decoration-color: #008000\">'43'</span>,\n",
       "    <span style=\"color: #008000; text-decoration-color: #008000\">'special_attack'</span>: <span style=\"color: #008000; text-decoration-color: #008000\">'60'</span>,\n",
       "    <span style=\"color: #008000; text-decoration-color: #008000\">'special_defense'</span>: <span style=\"color: #008000; text-decoration-color: #008000\">'50'</span>,\n",
       "    <span style=\"color: #008000; text-decoration-color: #008000\">'speed'</span>: <span style=\"color: #008000; text-decoration-color: #008000\">'65'</span>,\n",
       "    <span style=\"color: #008000; text-decoration-color: #008000\">'icon_url'</span>: <span style=\"color: #008000; text-decoration-color: #008000\">'https://img.pokemondb.net/sprites/scarlet-violet/icon/charmander.png'</span>,\n",
       "    <span style=\"color: #008000; text-decoration-color: #008000\">'details_url'</span>: <span style=\"color: #008000; text-decoration-color: #008000\">'https://pokemondb.net/pokedex/charmander'</span>,\n",
       "    <span style=\"color: #008000; text-decoration-color: #008000\">'scrape_ts'</span>: <span style=\"color: #008000; text-decoration-color: #008000\">'2024-02-24 13:57:52'</span>\n",
       "<span style=\"font-weight: bold\">}</span>\n",
       "</pre>\n"
      ],
      "text/plain": [
       "\u001b[1m{\u001b[0m\n",
       "    \u001b[32m'rank'\u001b[0m: \u001b[32m'0004'\u001b[0m,\n",
       "    \u001b[32m'name'\u001b[0m: \u001b[32m'Charmander'\u001b[0m,\n",
       "    \u001b[32m'types'\u001b[0m: \u001b[32m'Fire'\u001b[0m,\n",
       "    \u001b[32m'total_power'\u001b[0m: \u001b[32m'309'\u001b[0m,\n",
       "    \u001b[32m'hit_points'\u001b[0m: \u001b[32m'39'\u001b[0m,\n",
       "    \u001b[32m'attack'\u001b[0m: \u001b[32m'52'\u001b[0m,\n",
       "    \u001b[32m'defense'\u001b[0m: \u001b[32m'43'\u001b[0m,\n",
       "    \u001b[32m'special_attack'\u001b[0m: \u001b[32m'60'\u001b[0m,\n",
       "    \u001b[32m'special_defense'\u001b[0m: \u001b[32m'50'\u001b[0m,\n",
       "    \u001b[32m'speed'\u001b[0m: \u001b[32m'65'\u001b[0m,\n",
       "    \u001b[32m'icon_url'\u001b[0m: \u001b[32m'https://img.pokemondb.net/sprites/scarlet-violet/icon/charmander.png'\u001b[0m,\n",
       "    \u001b[32m'details_url'\u001b[0m: \u001b[32m'https://pokemondb.net/pokedex/charmander'\u001b[0m,\n",
       "    \u001b[32m'scrape_ts'\u001b[0m: \u001b[32m'2024-02-24 13:57:52'\u001b[0m\n",
       "\u001b[1m}\u001b[0m\n"
      ]
     },
     "metadata": {},
     "output_type": "display_data"
    }
   ],
   "source": [
    "charmender = pokemons[4]\n",
    "\n",
    "charmender_data = extract_pokemon_stats(charmender)\n",
    "print(charmender_data)"
   ]
  },
  {
   "cell_type": "markdown",
   "metadata": {},
   "source": [
    "## Complete Data Extraction\n",
    "\n",
    "Now, we can loop over each of of the pokemon entries in the list and extract their\n",
    "respective informations and statistics.\n",
    "\n",
    "Then, we can convert the information into a dataframe for data analysis."
   ]
  },
  {
   "cell_type": "code",
   "execution_count": 30,
   "metadata": {},
   "outputs": [],
   "source": [
    "import pandas as pd"
   ]
  },
  {
   "cell_type": "code",
   "execution_count": 31,
   "metadata": {},
   "outputs": [],
   "source": [
    "# Get all the pokemon info\n",
    "pokedex_data = [extract_pokemon_stats(pokemon) for pokemon in pokemons]\n",
    "\n",
    "# Convert the data into a pandas dataframe\n",
    "pokedex_df = pd.DataFrame(pokedex_data)"
   ]
  },
  {
   "cell_type": "code",
   "execution_count": 32,
   "metadata": {},
   "outputs": [
    {
     "data": {
      "text/html": [
       "<div>\n",
       "<style scoped>\n",
       "    .dataframe tbody tr th:only-of-type {\n",
       "        vertical-align: middle;\n",
       "    }\n",
       "\n",
       "    .dataframe tbody tr th {\n",
       "        vertical-align: top;\n",
       "    }\n",
       "\n",
       "    .dataframe thead th {\n",
       "        text-align: right;\n",
       "    }\n",
       "</style>\n",
       "<table border=\"1\" class=\"dataframe\">\n",
       "  <thead>\n",
       "    <tr style=\"text-align: right;\">\n",
       "      <th></th>\n",
       "      <th>rank</th>\n",
       "      <th>name</th>\n",
       "      <th>types</th>\n",
       "      <th>total_power</th>\n",
       "      <th>hit_points</th>\n",
       "      <th>attack</th>\n",
       "      <th>defense</th>\n",
       "      <th>special_attack</th>\n",
       "      <th>special_defense</th>\n",
       "      <th>speed</th>\n",
       "      <th>icon_url</th>\n",
       "      <th>details_url</th>\n",
       "      <th>scrape_ts</th>\n",
       "    </tr>\n",
       "  </thead>\n",
       "  <tbody>\n",
       "    <tr>\n",
       "      <th>0</th>\n",
       "      <td>0001</td>\n",
       "      <td>Bulbasaur</td>\n",
       "      <td>Grass, Poison</td>\n",
       "      <td>318</td>\n",
       "      <td>45</td>\n",
       "      <td>49</td>\n",
       "      <td>49</td>\n",
       "      <td>65</td>\n",
       "      <td>65</td>\n",
       "      <td>45</td>\n",
       "      <td>https://img.pokemondb.net/sprites/scarlet-viol...</td>\n",
       "      <td>https://pokemondb.net/pokedex/bulbasaur</td>\n",
       "      <td>2024-02-24 13:57:53</td>\n",
       "    </tr>\n",
       "    <tr>\n",
       "      <th>1</th>\n",
       "      <td>0002</td>\n",
       "      <td>Ivysaur</td>\n",
       "      <td>Grass, Poison</td>\n",
       "      <td>405</td>\n",
       "      <td>60</td>\n",
       "      <td>62</td>\n",
       "      <td>63</td>\n",
       "      <td>80</td>\n",
       "      <td>80</td>\n",
       "      <td>60</td>\n",
       "      <td>https://img.pokemondb.net/sprites/scarlet-viol...</td>\n",
       "      <td>https://pokemondb.net/pokedex/ivysaur</td>\n",
       "      <td>2024-02-24 13:57:53</td>\n",
       "    </tr>\n",
       "    <tr>\n",
       "      <th>2</th>\n",
       "      <td>0003</td>\n",
       "      <td>Venusaur</td>\n",
       "      <td>Grass, Poison</td>\n",
       "      <td>525</td>\n",
       "      <td>80</td>\n",
       "      <td>82</td>\n",
       "      <td>83</td>\n",
       "      <td>100</td>\n",
       "      <td>100</td>\n",
       "      <td>80</td>\n",
       "      <td>https://img.pokemondb.net/sprites/scarlet-viol...</td>\n",
       "      <td>https://pokemondb.net/pokedex/venusaur</td>\n",
       "      <td>2024-02-24 13:57:53</td>\n",
       "    </tr>\n",
       "    <tr>\n",
       "      <th>3</th>\n",
       "      <td>0003</td>\n",
       "      <td>Mega Venusaur</td>\n",
       "      <td>Grass, Poison</td>\n",
       "      <td>625</td>\n",
       "      <td>80</td>\n",
       "      <td>100</td>\n",
       "      <td>123</td>\n",
       "      <td>122</td>\n",
       "      <td>120</td>\n",
       "      <td>80</td>\n",
       "      <td>https://img.pokemondb.net/sprites/scarlet-viol...</td>\n",
       "      <td>https://pokemondb.net/pokedex/venusaur</td>\n",
       "      <td>2024-02-24 13:57:53</td>\n",
       "    </tr>\n",
       "    <tr>\n",
       "      <th>4</th>\n",
       "      <td>0004</td>\n",
       "      <td>Charmander</td>\n",
       "      <td>Fire</td>\n",
       "      <td>309</td>\n",
       "      <td>39</td>\n",
       "      <td>52</td>\n",
       "      <td>43</td>\n",
       "      <td>60</td>\n",
       "      <td>50</td>\n",
       "      <td>65</td>\n",
       "      <td>https://img.pokemondb.net/sprites/scarlet-viol...</td>\n",
       "      <td>https://pokemondb.net/pokedex/charmander</td>\n",
       "      <td>2024-02-24 13:57:53</td>\n",
       "    </tr>\n",
       "  </tbody>\n",
       "</table>\n",
       "</div>"
      ],
      "text/plain": [
       "   rank           name          types total_power hit_points attack defense  \\\n",
       "0  0001      Bulbasaur  Grass, Poison         318         45     49      49   \n",
       "1  0002        Ivysaur  Grass, Poison         405         60     62      63   \n",
       "2  0003       Venusaur  Grass, Poison         525         80     82      83   \n",
       "3  0003  Mega Venusaur  Grass, Poison         625         80    100     123   \n",
       "4  0004     Charmander           Fire         309         39     52      43   \n",
       "\n",
       "  special_attack special_defense speed  \\\n",
       "0             65              65    45   \n",
       "1             80              80    60   \n",
       "2            100             100    80   \n",
       "3            122             120    80   \n",
       "4             60              50    65   \n",
       "\n",
       "                                            icon_url  \\\n",
       "0  https://img.pokemondb.net/sprites/scarlet-viol...   \n",
       "1  https://img.pokemondb.net/sprites/scarlet-viol...   \n",
       "2  https://img.pokemondb.net/sprites/scarlet-viol...   \n",
       "3  https://img.pokemondb.net/sprites/scarlet-viol...   \n",
       "4  https://img.pokemondb.net/sprites/scarlet-viol...   \n",
       "\n",
       "                                details_url            scrape_ts  \n",
       "0   https://pokemondb.net/pokedex/bulbasaur  2024-02-24 13:57:53  \n",
       "1     https://pokemondb.net/pokedex/ivysaur  2024-02-24 13:57:53  \n",
       "2    https://pokemondb.net/pokedex/venusaur  2024-02-24 13:57:53  \n",
       "3    https://pokemondb.net/pokedex/venusaur  2024-02-24 13:57:53  \n",
       "4  https://pokemondb.net/pokedex/charmander  2024-02-24 13:57:53  "
      ]
     },
     "execution_count": 32,
     "metadata": {},
     "output_type": "execute_result"
    }
   ],
   "source": [
    "# View the glimpse of the dataframe\n",
    "pokedex_df.head()"
   ]
  },
  {
   "cell_type": "code",
   "execution_count": 33,
   "metadata": {},
   "outputs": [
    {
     "name": "stdout",
     "output_type": "stream",
     "text": [
      "<class 'pandas.core.frame.DataFrame'>\n",
      "RangeIndex: 1215 entries, 0 to 1214\n",
      "Data columns (total 13 columns):\n",
      " #   Column           Non-Null Count  Dtype \n",
      "---  ------           --------------  ----- \n",
      " 0   rank             1215 non-null   object\n",
      " 1   name             1215 non-null   object\n",
      " 2   types            1215 non-null   object\n",
      " 3   total_power      1215 non-null   object\n",
      " 4   hit_points       1215 non-null   object\n",
      " 5   attack           1215 non-null   object\n",
      " 6   defense          1215 non-null   object\n",
      " 7   special_attack   1215 non-null   object\n",
      " 8   special_defense  1215 non-null   object\n",
      " 9   speed            1215 non-null   object\n",
      " 10  icon_url         1215 non-null   object\n",
      " 11  details_url      1215 non-null   object\n",
      " 12  scrape_ts        1215 non-null   object\n",
      "dtypes: object(13)\n",
      "memory usage: 123.5+ KB\n"
     ]
    }
   ],
   "source": [
    "# View the info of the dataframe\n",
    "pokedex_df.info()"
   ]
  },
  {
   "cell_type": "code",
   "execution_count": null,
   "metadata": {},
   "outputs": [],
   "source": []
  }
 ],
 "metadata": {
  "kernelspec": {
   "display_name": ".venv",
   "language": "python",
   "name": "python3"
  },
  "language_info": {
   "codemirror_mode": {
    "name": "ipython",
    "version": 3
   },
   "file_extension": ".py",
   "mimetype": "text/x-python",
   "name": "python",
   "nbconvert_exporter": "python",
   "pygments_lexer": "ipython3",
   "version": "3.10.11"
  }
 },
 "nbformat": 4,
 "nbformat_minor": 2
}
